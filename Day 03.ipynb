{
 "cells": [
  {
   "cell_type": "markdown",
   "id": "12d51cbb",
   "metadata": {},
   "source": [
    "## Loop"
   ]
  },
  {
   "cell_type": "code",
   "execution_count": 1,
   "id": "622cfa9a",
   "metadata": {},
   "outputs": [],
   "source": [
    "l = [36,25,85,65,45,89,12]"
   ]
  },
  {
   "cell_type": "code",
   "execution_count": 2,
   "id": "b9dd0498",
   "metadata": {},
   "outputs": [
    {
     "data": {
      "text/plain": [
       "[36, 25, 85, 65, 45, 89, 12]"
      ]
     },
     "execution_count": 2,
     "metadata": {},
     "output_type": "execute_result"
    }
   ],
   "source": [
    "l"
   ]
  },
  {
   "cell_type": "code",
   "execution_count": 3,
   "id": "c66f98da",
   "metadata": {},
   "outputs": [
    {
     "data": {
      "text/plain": [
       "36"
      ]
     },
     "execution_count": 3,
     "metadata": {},
     "output_type": "execute_result"
    }
   ],
   "source": [
    "l[0]"
   ]
  },
  {
   "cell_type": "code",
   "execution_count": 4,
   "id": "64a9df92",
   "metadata": {},
   "outputs": [
    {
     "data": {
      "text/plain": [
       "25"
      ]
     },
     "execution_count": 4,
     "metadata": {},
     "output_type": "execute_result"
    }
   ],
   "source": [
    "l[1]"
   ]
  },
  {
   "cell_type": "markdown",
   "id": "893bacb1",
   "metadata": {},
   "source": [
    "\n",
    "## 1.Loop:for\n"
   ]
  },
  {
   "cell_type": "code",
   "execution_count": null,
   "id": "3d95bcc4",
   "metadata": {},
   "outputs": [],
   "source": [
    "for <index> in <iterator>:\n",
    "    print(index)\n",
    "    print(index)\n",
    "    print(index)\n",
    "    print(index)\n",
    "    print(index)"
   ]
  },
  {
   "cell_type": "code",
   "execution_count": 7,
   "id": "2e7719a6",
   "metadata": {},
   "outputs": [
    {
     "data": {
      "text/plain": [
       "7"
      ]
     },
     "execution_count": 7,
     "metadata": {},
     "output_type": "execute_result"
    }
   ],
   "source": [
    "len(l)"
   ]
  },
  {
   "cell_type": "code",
   "execution_count": 9,
   "id": "799fa0b2",
   "metadata": {},
   "outputs": [
    {
     "data": {
      "text/plain": [
       "range(0, 10)"
      ]
     },
     "execution_count": 9,
     "metadata": {},
     "output_type": "execute_result"
    }
   ],
   "source": [
    "range(0,10)"
   ]
  },
  {
   "cell_type": "code",
   "execution_count": 10,
   "id": "8cd866bc",
   "metadata": {},
   "outputs": [
    {
     "name": "stdout",
     "output_type": "stream",
     "text": [
      "0\n",
      "1\n",
      "2\n",
      "3\n",
      "4\n"
     ]
    }
   ],
   "source": [
    "for i in range(0,5):\n",
    "    print(i)"
   ]
  },
  {
   "cell_type": "code",
   "execution_count": 11,
   "id": "b93263f9",
   "metadata": {},
   "outputs": [
    {
     "data": {
      "text/plain": [
       "[36, 25, 85, 65, 45, 89, 12]"
      ]
     },
     "execution_count": 11,
     "metadata": {},
     "output_type": "execute_result"
    }
   ],
   "source": [
    "l"
   ]
  },
  {
   "cell_type": "code",
   "execution_count": 12,
   "id": "64a96be1",
   "metadata": {},
   "outputs": [
    {
     "name": "stdout",
     "output_type": "stream",
     "text": [
      "36\n",
      "25\n",
      "85\n",
      "65\n",
      "45\n",
      "89\n",
      "12\n"
     ]
    }
   ],
   "source": [
    "for i in range(0,7):\n",
    "    print(l[i])"
   ]
  },
  {
   "cell_type": "code",
   "execution_count": 13,
   "id": "811e77ba",
   "metadata": {},
   "outputs": [
    {
     "name": "stdout",
     "output_type": "stream",
     "text": [
      "36\n",
      "25\n",
      "85\n",
      "65\n",
      "45\n",
      "89\n",
      "12\n"
     ]
    }
   ],
   "source": [
    "for i in range(0,len(l)):\n",
    "    print(l[i])"
   ]
  },
  {
   "cell_type": "markdown",
   "id": "688b8e14",
   "metadata": {},
   "source": [
    "## Sum of number in list"
   ]
  },
  {
   "cell_type": "code",
   "execution_count": 14,
   "id": "bb085b3b",
   "metadata": {},
   "outputs": [
    {
     "data": {
      "text/plain": [
       "[36, 25, 85, 65, 45, 89, 12]"
      ]
     },
     "execution_count": 14,
     "metadata": {},
     "output_type": "execute_result"
    }
   ],
   "source": [
    "l"
   ]
  },
  {
   "cell_type": "code",
   "execution_count": 17,
   "id": "f7daf59e",
   "metadata": {},
   "outputs": [
    {
     "name": "stdout",
     "output_type": "stream",
     "text": [
      "366\n"
     ]
    }
   ],
   "source": [
    "sum = 9\n",
    "\n",
    "for i in range(0, len(l)):\n",
    "    sum = sum + l[i]\n",
    "    \n",
    "print(sum)"
   ]
  },
  {
   "cell_type": "code",
   "execution_count": 19,
   "id": "66f59ba5",
   "metadata": {},
   "outputs": [
    {
     "data": {
      "text/plain": [
       "366"
      ]
     },
     "execution_count": 19,
     "metadata": {},
     "output_type": "execute_result"
    }
   ],
   "source": [
    "36 + 25 + 85 + 65 + 45 + 89 + 12 + 9"
   ]
  },
  {
   "cell_type": "markdown",
   "id": "47062166",
   "metadata": {},
   "source": [
    "## Print the Pattern"
   ]
  },
  {
   "cell_type": "code",
   "execution_count": 20,
   "id": "68ac6056",
   "metadata": {},
   "outputs": [
    {
     "name": "stdout",
     "output_type": "stream",
     "text": [
      "i\n",
      "n\n",
      "d\n",
      "i\n",
      "a\n"
     ]
    }
   ],
   "source": [
    "word = \"india\"\n",
    "\n",
    "for letter in word:\n",
    "    print(letter)"
   ]
  },
  {
   "cell_type": "markdown",
   "id": "8a1e9605",
   "metadata": {},
   "source": [
    "## Multiplication Table"
   ]
  },
  {
   "cell_type": "code",
   "execution_count": 23,
   "id": "5e6df49d",
   "metadata": {},
   "outputs": [
    {
     "name": "stdout",
     "output_type": "stream",
     "text": [
      " 10 * 1 = 10\n",
      " 10 * 2 = 20\n",
      " 10 * 3 = 30\n",
      " 10 * 4 = 40\n",
      " 10 * 5 = 50\n",
      " 10 * 6 = 60\n",
      " 10 * 7 = 70\n",
      " 10 * 8 = 80\n",
      " 10 * 9 = 90\n",
      " 10 * 10 = 100\n"
     ]
    }
   ],
   "source": [
    "n = 10\n",
    "\n",
    "for i in range(1,11):\n",
    "    print(f\" {n} * {i} = {n*i}\")"
   ]
  },
  {
   "cell_type": "code",
   "execution_count": 22,
   "id": "7cf204fc",
   "metadata": {},
   "outputs": [
    {
     "name": "stdout",
     "output_type": "stream",
     "text": [
      "rghrfl: 5 3\n"
     ]
    }
   ],
   "source": [
    "n = 5\n",
    "i = 3\n",
    "print(f\"rghrfl: {n} {i}\")"
   ]
  },
  {
   "cell_type": "markdown",
   "id": "d79051bd",
   "metadata": {},
   "source": [
    "## Factorial of Number"
   ]
  },
  {
   "cell_type": "code",
   "execution_count": 79,
   "id": "e534dba9",
   "metadata": {},
   "outputs": [
    {
     "name": "stdout",
     "output_type": "stream",
     "text": [
      "3628800\n"
     ]
    }
   ],
   "source": [
    "result = 1\n",
    "n = 10\n",
    "\n",
    "for i in range(1, n+1):\n",
    "    result = result * i\n",
    "   \n",
    "print(result)"
   ]
  },
  {
   "cell_type": "code",
   "execution_count": 81,
   "id": "ac3d1249",
   "metadata": {},
   "outputs": [
    {
     "name": "stdout",
     "output_type": "stream",
     "text": [
      "Enter a number whose factorial we want to find  :9\n",
      "362880\n"
     ]
    }
   ],
   "source": [
    "n = int(input(\"Enter a number whose factorial we want to find  :\"))\n",
    "fact = 1\n",
    "\n",
    "for i in range(1,n+1):\n",
    "    fact = fact * i\n",
    "    \n",
    "print(fact)"
   ]
  },
  {
   "cell_type": "markdown",
   "id": "9cb14180",
   "metadata": {},
   "source": [
    "## 2.Loop:while"
   ]
  },
  {
   "cell_type": "code",
   "execution_count": null,
   "id": "f0d84379",
   "metadata": {},
   "outputs": [],
   "source": [
    "while <condition>:\n",
    "    print()"
   ]
  },
  {
   "cell_type": "code",
   "execution_count": 83,
   "id": "7d45bc54",
   "metadata": {},
   "outputs": [
    {
     "name": "stdout",
     "output_type": "stream",
     "text": [
      " * \n",
      " *  * \n",
      " *  *  * \n",
      " *  *  *  * \n",
      " *  *  *  *  * \n"
     ]
    }
   ],
   "source": [
    "n = 5\n",
    "i = 1\n",
    "\n",
    "while i <= n:\n",
    "    \n",
    "    print(\" * \" * i)\n",
    "    \n",
    "    i = i + 1"
   ]
  },
  {
   "cell_type": "code",
   "execution_count": 87,
   "id": "f16bc1e1",
   "metadata": {},
   "outputs": [
    {
     "name": "stdout",
     "output_type": "stream",
     "text": [
      " *  *  *  *  * \n",
      " *  *  *  * \n",
      " *  *  * \n",
      " *  * \n",
      " * \n"
     ]
    }
   ],
   "source": [
    "n = 5\n",
    "i = n\n",
    "\n",
    "while i >= 1:\n",
    "    \n",
    "    print(\" * \" * i)\n",
    "    \n",
    "    i = i - 1"
   ]
  },
  {
   "cell_type": "code",
   "execution_count": 88,
   "id": "f7d514f7",
   "metadata": {},
   "outputs": [
    {
     "name": "stdout",
     "output_type": "stream",
     "text": [
      " * \n",
      " *  * \n",
      " *  *  * \n",
      " *  *  *  * \n",
      " *  *  *  *  * \n",
      " *  *  *  * \n",
      " *  *  * \n",
      " *  * \n",
      " * \n"
     ]
    }
   ],
   "source": [
    "n = 5\n",
    "i = 1\n",
    "\n",
    "while i <= n:\n",
    "    \n",
    "    print(\" * \" * i)\n",
    "    \n",
    "    i = i + 1\n",
    "    \n",
    "n = 4\n",
    "i = n\n",
    "\n",
    "while i >= 1:\n",
    "    \n",
    "    print(\" * \" * i)\n",
    "    \n",
    "    i = i - 1"
   ]
  },
  {
   "cell_type": "markdown",
   "id": "f81ce2d3",
   "metadata": {},
   "source": [
    "## Pattern Print"
   ]
  },
  {
   "cell_type": "code",
   "execution_count": 31,
   "id": "aaeb5449",
   "metadata": {},
   "outputs": [
    {
     "name": "stdout",
     "output_type": "stream",
     "text": [
      "P\n",
      "Y\n",
      "T\n",
      "H\n",
      "O\n",
      "N\n",
      " \n",
      "I\n",
      "N\n",
      "D\n",
      "I\n",
      "A\n"
     ]
    }
   ],
   "source": [
    "string = \"PYTHON INDIA\"\n",
    "index = 0\n",
    "\n",
    "while index < len(string):\n",
    "    print(string[index])\n",
    "    \n",
    "    index += 1"
   ]
  },
  {
   "cell_type": "code",
   "execution_count": 32,
   "id": "e4b1bb90",
   "metadata": {},
   "outputs": [
    {
     "data": {
      "text/plain": [
       "12"
      ]
     },
     "execution_count": 32,
     "metadata": {},
     "output_type": "execute_result"
    }
   ],
   "source": [
    "len(string)"
   ]
  },
  {
   "cell_type": "markdown",
   "id": "c38c1277",
   "metadata": {},
   "source": [
    "## Print the letter from n to 1"
   ]
  },
  {
   "cell_type": "code",
   "execution_count": 46,
   "id": "f7b72ba5",
   "metadata": {},
   "outputs": [
    {
     "name": "stdout",
     "output_type": "stream",
     "text": [
      "10\n",
      "9\n",
      "8\n",
      "7\n",
      "6\n",
      "5\n",
      "4\n",
      "3\n",
      "2\n",
      "1\n",
      "0\n"
     ]
    }
   ],
   "source": [
    "num = 10\n",
    "\n",
    "while (num >= 0):\n",
    "    print (num)\n",
    "    num -= 1"
   ]
  },
  {
   "cell_type": "code",
   "execution_count": 34,
   "id": "06ebfc66",
   "metadata": {},
   "outputs": [
    {
     "name": "stdout",
     "output_type": "stream",
     "text": [
      "20\n",
      "19\n",
      "18\n",
      "17\n",
      "16\n",
      "15\n",
      "14\n",
      "13\n",
      "12\n",
      "11\n",
      "10\n",
      "9\n",
      "8\n",
      "7\n",
      "6\n",
      "5\n",
      "4\n",
      "3\n",
      "2\n",
      "1\n",
      "0\n"
     ]
    }
   ],
   "source": [
    "num = 20\n",
    "while (num >= 0):\n",
    "    print(num)\n",
    "    num -= 1"
   ]
  },
  {
   "cell_type": "markdown",
   "id": "001dbee6",
   "metadata": {},
   "source": [
    "## Function"
   ]
  },
  {
   "cell_type": "code",
   "execution_count": 47,
   "id": "cf0cf768",
   "metadata": {},
   "outputs": [
    {
     "data": {
      "text/plain": [
       "[36, 25, 85, 65, 45, 89, 12]"
      ]
     },
     "execution_count": 47,
     "metadata": {},
     "output_type": "execute_result"
    }
   ],
   "source": [
    "l"
   ]
  },
  {
   "cell_type": "code",
   "execution_count": 48,
   "id": "54cae219",
   "metadata": {},
   "outputs": [
    {
     "data": {
      "text/plain": [
       "7"
      ]
     },
     "execution_count": 48,
     "metadata": {},
     "output_type": "execute_result"
    }
   ],
   "source": [
    "len(l)"
   ]
  },
  {
   "cell_type": "code",
   "execution_count": 49,
   "id": "4497b193",
   "metadata": {},
   "outputs": [],
   "source": [
    "s = 'INDIA VS ENGLAND'"
   ]
  },
  {
   "cell_type": "code",
   "execution_count": 51,
   "id": "f8216aad",
   "metadata": {},
   "outputs": [
    {
     "data": {
      "text/plain": [
       "'INDIA VS ENGLAND'"
      ]
     },
     "execution_count": 51,
     "metadata": {},
     "output_type": "execute_result"
    }
   ],
   "source": [
    "s"
   ]
  },
  {
   "cell_type": "code",
   "execution_count": 52,
   "id": "d39cbb95",
   "metadata": {},
   "outputs": [
    {
     "data": {
      "text/plain": [
       "16"
      ]
     },
     "execution_count": 52,
     "metadata": {},
     "output_type": "execute_result"
    }
   ],
   "source": [
    "len(s)"
   ]
  },
  {
   "cell_type": "code",
   "execution_count": 54,
   "id": "470a6a45",
   "metadata": {},
   "outputs": [
    {
     "name": "stdout",
     "output_type": "stream",
     "text": [
      "15\n",
      "16\n",
      "17\n",
      "18\n",
      "19\n"
     ]
    }
   ],
   "source": [
    "for i in range(15,20):\n",
    "    print(i)"
   ]
  },
  {
   "cell_type": "code",
   "execution_count": 55,
   "id": "258dac10",
   "metadata": {},
   "outputs": [],
   "source": [
    "def dghj():\n",
    "    print()\n",
    "    print()"
   ]
  },
  {
   "cell_type": "code",
   "execution_count": 58,
   "id": "e5d614fb",
   "metadata": {},
   "outputs": [],
   "source": [
    "def my_func():\n",
    "    pass"
   ]
  },
  {
   "cell_type": "code",
   "execution_count": 59,
   "id": "cdedc974",
   "metadata": {},
   "outputs": [],
   "source": [
    "def greet():\n",
    "    print(\"Hello!\")"
   ]
  },
  {
   "cell_type": "code",
   "execution_count": 60,
   "id": "c0a74087",
   "metadata": {},
   "outputs": [
    {
     "name": "stdout",
     "output_type": "stream",
     "text": [
      "Hello!\n"
     ]
    }
   ],
   "source": [
    "greet()"
   ]
  },
  {
   "cell_type": "code",
   "execution_count": 62,
   "id": "b073b738",
   "metadata": {},
   "outputs": [],
   "source": [
    "result = greet"
   ]
  },
  {
   "cell_type": "code",
   "execution_count": 66,
   "id": "2a28f62b",
   "metadata": {},
   "outputs": [
    {
     "name": "stdout",
     "output_type": "stream",
     "text": [
      "<function greet at 0x000002C06C27ADC0>\n"
     ]
    }
   ],
   "source": [
    "print(result)"
   ]
  },
  {
   "cell_type": "code",
   "execution_count": 67,
   "id": "8ee73136",
   "metadata": {},
   "outputs": [
    {
     "data": {
      "text/plain": [
       "function"
      ]
     },
     "execution_count": 67,
     "metadata": {},
     "output_type": "execute_result"
    }
   ],
   "source": [
    "type(result)"
   ]
  },
  {
   "cell_type": "code",
   "execution_count": 35,
   "id": "a8a2d094",
   "metadata": {},
   "outputs": [],
   "source": [
    "def test1():\n",
    "\n",
    "    sum = 1 + 5\n",
    "    \n",
    "    return sum"
   ]
  },
  {
   "cell_type": "code",
   "execution_count": 36,
   "id": "e7313593",
   "metadata": {},
   "outputs": [
    {
     "data": {
      "text/plain": [
       "6"
      ]
     },
     "execution_count": 36,
     "metadata": {},
     "output_type": "execute_result"
    }
   ],
   "source": [
    "test1()"
   ]
  },
  {
   "cell_type": "code",
   "execution_count": 37,
   "id": "6e3802e3",
   "metadata": {},
   "outputs": [],
   "source": [
    "result = test1()"
   ]
  },
  {
   "cell_type": "code",
   "execution_count": 38,
   "id": "19576f67",
   "metadata": {},
   "outputs": [
    {
     "name": "stdout",
     "output_type": "stream",
     "text": [
      "6\n"
     ]
    }
   ],
   "source": [
    "print(result)"
   ]
  },
  {
   "cell_type": "code",
   "execution_count": 39,
   "id": "f8650a67",
   "metadata": {},
   "outputs": [
    {
     "data": {
      "text/plain": [
       "int"
      ]
     },
     "execution_count": 39,
     "metadata": {},
     "output_type": "execute_result"
    }
   ],
   "source": [
    "type(result)"
   ]
  },
  {
   "cell_type": "code",
   "execution_count": 40,
   "id": "49280343",
   "metadata": {},
   "outputs": [],
   "source": [
    "def test3():\n",
    "    li = [1,2,3]\n",
    "    return li"
   ]
  },
  {
   "cell_type": "code",
   "execution_count": 93,
   "id": "9e2d1338",
   "metadata": {},
   "outputs": [],
   "source": [
    "result = test3()"
   ]
  },
  {
   "cell_type": "code",
   "execution_count": 94,
   "id": "38566da9",
   "metadata": {},
   "outputs": [
    {
     "name": "stdout",
     "output_type": "stream",
     "text": [
      "[1, 2, 3]\n"
     ]
    }
   ],
   "source": [
    "print(result)"
   ]
  },
  {
   "cell_type": "code",
   "execution_count": 95,
   "id": "a4fbdca3",
   "metadata": {},
   "outputs": [
    {
     "data": {
      "text/plain": [
       "3"
      ]
     },
     "execution_count": 95,
     "metadata": {},
     "output_type": "execute_result"
    }
   ],
   "source": [
    "len(result)"
   ]
  },
  {
   "cell_type": "code",
   "execution_count": 96,
   "id": "3d667adf",
   "metadata": {},
   "outputs": [],
   "source": [
    "def test5():\n",
    "    name = \"Pravin\"\n",
    "    return name"
   ]
  },
  {
   "cell_type": "code",
   "execution_count": 100,
   "id": "9409324a",
   "metadata": {},
   "outputs": [],
   "source": [
    "name = test5()"
   ]
  },
  {
   "cell_type": "code",
   "execution_count": 101,
   "id": "e0dbb74a",
   "metadata": {},
   "outputs": [
    {
     "data": {
      "text/plain": [
       "'Pravin'"
      ]
     },
     "execution_count": 101,
     "metadata": {},
     "output_type": "execute_result"
    }
   ],
   "source": [
    "name"
   ]
  },
  {
   "cell_type": "code",
   "execution_count": 104,
   "id": "b0fab3df",
   "metadata": {},
   "outputs": [
    {
     "data": {
      "text/plain": [
       "'Pravin Dole'"
      ]
     },
     "execution_count": 104,
     "metadata": {},
     "output_type": "execute_result"
    }
   ],
   "source": [
    "test5() + \" Dole\""
   ]
  },
  {
   "cell_type": "code",
   "execution_count": 107,
   "id": "a65e03dc",
   "metadata": {},
   "outputs": [],
   "source": [
    "def test6():\n",
    "    return [36,56,16]"
   ]
  },
  {
   "cell_type": "code",
   "execution_count": 108,
   "id": "df5a4722",
   "metadata": {},
   "outputs": [
    {
     "data": {
      "text/plain": [
       "[36, 56, 16]"
      ]
     },
     "execution_count": 108,
     "metadata": {},
     "output_type": "execute_result"
    }
   ],
   "source": [
    "test6()"
   ]
  },
  {
   "cell_type": "code",
   "execution_count": 109,
   "id": "73b1d61a",
   "metadata": {},
   "outputs": [],
   "source": [
    "def test6():\n",
    "    return 36,56,16"
   ]
  },
  {
   "cell_type": "code",
   "execution_count": 110,
   "id": "fe3e49b2",
   "metadata": {},
   "outputs": [
    {
     "data": {
      "text/plain": [
       "(36, 56, 16)"
      ]
     },
     "execution_count": 110,
     "metadata": {},
     "output_type": "execute_result"
    }
   ],
   "source": [
    "test6()"
   ]
  },
  {
   "cell_type": "code",
   "execution_count": 111,
   "id": "819dea5a",
   "metadata": {},
   "outputs": [],
   "source": [
    "a, b, c = test6()"
   ]
  },
  {
   "cell_type": "code",
   "execution_count": 112,
   "id": "f60ed0a1",
   "metadata": {},
   "outputs": [
    {
     "data": {
      "text/plain": [
       "36"
      ]
     },
     "execution_count": 112,
     "metadata": {},
     "output_type": "execute_result"
    }
   ],
   "source": [
    "a"
   ]
  },
  {
   "cell_type": "code",
   "execution_count": 113,
   "id": "3803c3b9",
   "metadata": {},
   "outputs": [
    {
     "data": {
      "text/plain": [
       "56"
      ]
     },
     "execution_count": 113,
     "metadata": {},
     "output_type": "execute_result"
    }
   ],
   "source": [
    "b"
   ]
  },
  {
   "cell_type": "code",
   "execution_count": 114,
   "id": "cb3565f1",
   "metadata": {},
   "outputs": [
    {
     "data": {
      "text/plain": [
       "16"
      ]
     },
     "execution_count": 114,
     "metadata": {},
     "output_type": "execute_result"
    }
   ],
   "source": [
    "c"
   ]
  },
  {
   "cell_type": "code",
   "execution_count": 115,
   "id": "f8889481",
   "metadata": {},
   "outputs": [],
   "source": [
    "a,b,c = 1,2,3"
   ]
  },
  {
   "cell_type": "code",
   "execution_count": 116,
   "id": "4f822000",
   "metadata": {},
   "outputs": [
    {
     "name": "stdout",
     "output_type": "stream",
     "text": [
      "1\n"
     ]
    }
   ],
   "source": [
    "print(a)"
   ]
  },
  {
   "cell_type": "code",
   "execution_count": 118,
   "id": "66f4ee17",
   "metadata": {},
   "outputs": [
    {
     "name": "stdout",
     "output_type": "stream",
     "text": [
      "1\n",
      "2\n",
      "3\n"
     ]
    }
   ],
   "source": [
    "print(a)\n",
    "print(b)\n",
    "print(c)"
   ]
  },
  {
   "cell_type": "code",
   "execution_count": 119,
   "id": "2d04b776",
   "metadata": {},
   "outputs": [],
   "source": [
    "def test7():\n",
    " \n",
    "    result = 50/20*6+8-5\n",
    "   \n",
    "    return result"
   ]
  },
  {
   "cell_type": "code",
   "execution_count": 120,
   "id": "7478dabc",
   "metadata": {},
   "outputs": [
    {
     "data": {
      "text/plain": [
       "18.0"
      ]
     },
     "execution_count": 120,
     "metadata": {},
     "output_type": "execute_result"
    }
   ],
   "source": [
    "test7()"
   ]
  },
  {
   "cell_type": "code",
   "execution_count": 121,
   "id": "f9d21fc5",
   "metadata": {},
   "outputs": [
    {
     "data": {
      "text/plain": [
       "18.0"
      ]
     },
     "execution_count": 121,
     "metadata": {},
     "output_type": "execute_result"
    }
   ],
   "source": [
    "50/20*6+8-5"
   ]
  },
  {
   "cell_type": "code",
   "execution_count": 137,
   "id": "19610f00",
   "metadata": {},
   "outputs": [],
   "source": [
    "def test8():\n",
    "    \n",
    "    l = [1,2,3,4,5,6,7,8,9,10]\n",
    "    \n",
    "    sum = 0\n",
    "    \n",
    "    for i in l:\n",
    "        \n",
    "        sum += i\n",
    "        \n",
    "    return sum"
   ]
  },
  {
   "cell_type": "code",
   "execution_count": 138,
   "id": "eb2dd9a8",
   "metadata": {},
   "outputs": [
    {
     "data": {
      "text/plain": [
       "55"
      ]
     },
     "execution_count": 138,
     "metadata": {},
     "output_type": "execute_result"
    }
   ],
   "source": [
    " test8()"
   ]
  },
  {
   "cell_type": "code",
   "execution_count": 139,
   "id": "5fe506b9",
   "metadata": {},
   "outputs": [
    {
     "data": {
      "text/plain": [
       "55"
      ]
     },
     "execution_count": 139,
     "metadata": {},
     "output_type": "execute_result"
    }
   ],
   "source": [
    "1+2+3+4+5+6+7+8+9+10"
   ]
  },
  {
   "cell_type": "code",
   "execution_count": 180,
   "id": "ab80e69f",
   "metadata": {},
   "outputs": [],
   "source": [
    "def test9():\n",
    "\n",
    "    l = [1,2,3,4,5,'INDIA','PUNE',6,7,8,'RANI',9,10]\n",
    "    \n",
    "    sum = 0\n",
    "    \n",
    "    for i in l:\n",
    "        \n",
    "        if type (i) == int:\n",
    "        \n",
    "            sum += i\n",
    "        \n",
    "    return sum"
   ]
  },
  {
   "cell_type": "code",
   "execution_count": 181,
   "id": "2d32a8bf",
   "metadata": {},
   "outputs": [
    {
     "data": {
      "text/plain": [
       "55"
      ]
     },
     "execution_count": 181,
     "metadata": {},
     "output_type": "execute_result"
    }
   ],
   "source": [
    "test9()"
   ]
  },
  {
   "cell_type": "code",
   "execution_count": 184,
   "id": "3ae578b3",
   "metadata": {},
   "outputs": [],
   "source": [
    "def test10(l):\n",
    "\n",
    "    sum = 0\n",
    "    \n",
    "    for i in l:\n",
    "        \n",
    "        if type (i) == int:\n",
    "        \n",
    "            sum += i\n",
    "        \n",
    "    return sum"
   ]
  },
  {
   "cell_type": "code",
   "execution_count": 185,
   "id": "9322a9fd",
   "metadata": {},
   "outputs": [],
   "source": [
    " l = [1,2,3,4,5,'a','b','c',6,7,8,'d','e',9,'f',10]"
   ]
  },
  {
   "cell_type": "code",
   "execution_count": 186,
   "id": "0536ccf4",
   "metadata": {},
   "outputs": [
    {
     "data": {
      "text/plain": [
       "55"
      ]
     },
     "execution_count": 186,
     "metadata": {},
     "output_type": "execute_result"
    }
   ],
   "source": [
    "test10(l)"
   ]
  },
  {
   "cell_type": "code",
   "execution_count": 27,
   "id": "d48898bc",
   "metadata": {},
   "outputs": [],
   "source": [
    "def test11(mylist):\n",
    "\n",
    "    sum = 0\n",
    "    \n",
    "    for i in mylist:\n",
    "        \n",
    "        if type (i) == int:\n",
    "        \n",
    "            sum += i\n",
    "        \n",
    "    return sum"
   ]
  },
  {
   "cell_type": "code",
   "execution_count": 28,
   "id": "add31af4",
   "metadata": {},
   "outputs": [],
   "source": [
    "l = [1,2,3,4,'a','b','c',5]"
   ]
  },
  {
   "cell_type": "code",
   "execution_count": 47,
   "id": "85733b14",
   "metadata": {},
   "outputs": [
    {
     "data": {
      "text/plain": [
       "15"
      ]
     },
     "execution_count": 47,
     "metadata": {},
     "output_type": "execute_result"
    }
   ],
   "source": [
    "test11(mylist = l)"
   ]
  },
  {
   "cell_type": "code",
   "execution_count": 30,
   "id": "428ca5a5",
   "metadata": {},
   "outputs": [],
   "source": [
    "def two_no_sum(a,b):\n",
    "    \n",
    "    sum = a + b\n",
    "    \n",
    "    return sum"
   ]
  },
  {
   "cell_type": "code",
   "execution_count": 206,
   "id": "51f04d6d",
   "metadata": {},
   "outputs": [],
   "source": [
    "a = 2\n",
    "b = 3\n",
    "\n",
    "result = two_no_sum(a,b)"
   ]
  },
  {
   "cell_type": "code",
   "execution_count": 207,
   "id": "4377a7b7",
   "metadata": {},
   "outputs": [
    {
     "data": {
      "text/plain": [
       "5"
      ]
     },
     "execution_count": 207,
     "metadata": {},
     "output_type": "execute_result"
    }
   ],
   "source": [
    "result"
   ]
  },
  {
   "cell_type": "code",
   "execution_count": 208,
   "id": "34cad893",
   "metadata": {},
   "outputs": [],
   "source": [
    "p = 5\n",
    "q = 10\n",
    "\n",
    "result = two_no_sum(p,q)"
   ]
  },
  {
   "cell_type": "code",
   "execution_count": 209,
   "id": "9b15a9b2",
   "metadata": {},
   "outputs": [
    {
     "data": {
      "text/plain": [
       "15"
      ]
     },
     "execution_count": 209,
     "metadata": {},
     "output_type": "execute_result"
    }
   ],
   "source": [
    "two_no_sum(a=p, b=q)"
   ]
  },
  {
   "cell_type": "code",
   "execution_count": 59,
   "id": "e967d76d",
   "metadata": {},
   "outputs": [],
   "source": [
    "def two_no_sum(a, b):\n",
    "    \"\"\"\n",
    "    Calculate the sum of two numbers\n",
    "    :params: 'a' is first number\n",
    "    :params: 'b' is second number\n",
    "    :return: addition of two numbers\n",
    "    \n",
    "    \"\"\"\n",
    "    sum = a + b\n",
    "    \n",
    "    return sum"
   ]
  },
  {
   "cell_type": "code",
   "execution_count": 60,
   "id": "ae63d5cb",
   "metadata": {},
   "outputs": [
    {
     "data": {
      "text/plain": [
       "3"
      ]
     },
     "execution_count": 60,
     "metadata": {},
     "output_type": "execute_result"
    }
   ],
   "source": [
    "two_no_sum(1, 2)"
   ]
  },
  {
   "cell_type": "code",
   "execution_count": 210,
   "id": "f646294f",
   "metadata": {},
   "outputs": [
    {
     "data": {
      "text/plain": [
       "[1, 2, 3, 4, 'a', 'b', 'c', 5]"
      ]
     },
     "execution_count": 210,
     "metadata": {},
     "output_type": "execute_result"
    }
   ],
   "source": [
    "l"
   ]
  },
  {
   "cell_type": "code",
   "execution_count": 211,
   "id": "ae565716",
   "metadata": {},
   "outputs": [
    {
     "data": {
      "text/plain": [
       "['a', 'b', 'c']"
      ]
     },
     "execution_count": 211,
     "metadata": {},
     "output_type": "execute_result"
    }
   ],
   "source": [
    "['a','b','c']"
   ]
  },
  {
   "cell_type": "code",
   "execution_count": 57,
   "id": "47182d92",
   "metadata": {},
   "outputs": [],
   "source": [
    "def test12(mylist):\n",
    "    \n",
    "    li = []\n",
    "    \n",
    "    for i in mylist:\n",
    "        \n",
    "        if type(i) == str:\n",
    "            \n",
    "            li.append(i)\n",
    "            \n",
    "    return li"
   ]
  },
  {
   "cell_type": "code",
   "execution_count": 213,
   "id": "04b2c1f7",
   "metadata": {},
   "outputs": [
    {
     "data": {
      "text/plain": [
       "[1, 2, 3, 4, 'a', 'b', 'c', 5]"
      ]
     },
     "execution_count": 213,
     "metadata": {},
     "output_type": "execute_result"
    }
   ],
   "source": [
    "l"
   ]
  },
  {
   "cell_type": "code",
   "execution_count": 214,
   "id": "3bc6d034",
   "metadata": {},
   "outputs": [
    {
     "data": {
      "text/plain": [
       "['a', 'b', 'c']"
      ]
     },
     "execution_count": 214,
     "metadata": {},
     "output_type": "execute_result"
    }
   ],
   "source": [
    "test12(l)"
   ]
  },
  {
   "cell_type": "code",
   "execution_count": 52,
   "id": "92d12fc0",
   "metadata": {},
   "outputs": [],
   "source": [
    "def test13(mylist):\n",
    "    \"\"\"\n",
    "    This function seperates the integer and str elements from the given list\n",
    "    :params: list()\n",
    "    :returns: string list, integer list\n",
    "     \"\"\"\n",
    "    \n",
    "    li_int = []\n",
    "    li_str = []\n",
    "    \n",
    "    for i in mylist:\n",
    "        \n",
    "        if type(i) == str:\n",
    "            li_str.append(i)\n",
    "            \n",
    "        if type(i) == int:\n",
    "            li_int.append(i)\n",
    "            \n",
    "    return li_str, li_int"
   ]
  },
  {
   "cell_type": "code",
   "execution_count": 53,
   "id": "f3d9b1ea",
   "metadata": {},
   "outputs": [
    {
     "data": {
      "text/plain": [
       "[1, 2, 3, 4, 'a', 'b', 'c', 5]"
      ]
     },
     "execution_count": 53,
     "metadata": {},
     "output_type": "execute_result"
    }
   ],
   "source": [
    "l"
   ]
  },
  {
   "cell_type": "code",
   "execution_count": 54,
   "id": "9d385b3b",
   "metadata": {},
   "outputs": [],
   "source": [
    "list_str, list_int = test13(l)"
   ]
  },
  {
   "cell_type": "code",
   "execution_count": 55,
   "id": "d45808b1",
   "metadata": {},
   "outputs": [
    {
     "data": {
      "text/plain": [
       "['a', 'b', 'c']"
      ]
     },
     "execution_count": 55,
     "metadata": {},
     "output_type": "execute_result"
    }
   ],
   "source": [
    "list_str"
   ]
  },
  {
   "cell_type": "code",
   "execution_count": 56,
   "id": "4b277d58",
   "metadata": {},
   "outputs": [
    {
     "data": {
      "text/plain": [
       "[1, 2, 3, 4, 5]"
      ]
     },
     "execution_count": 56,
     "metadata": {},
     "output_type": "execute_result"
    }
   ],
   "source": [
    "list_int"
   ]
  },
  {
   "cell_type": "code",
   "execution_count": null,
   "id": "e7438614",
   "metadata": {},
   "outputs": [],
   "source": []
  }
 ],
 "metadata": {
  "kernelspec": {
   "display_name": "Python 3 (ipykernel)",
   "language": "python",
   "name": "python3"
  },
  "language_info": {
   "codemirror_mode": {
    "name": "ipython",
    "version": 3
   },
   "file_extension": ".py",
   "mimetype": "text/x-python",
   "name": "python",
   "nbconvert_exporter": "python",
   "pygments_lexer": "ipython3",
   "version": "3.9.13"
  }
 },
 "nbformat": 4,
 "nbformat_minor": 5
}
