{
 "cells": [
  {
   "cell_type": "markdown",
   "id": "38ff1c1d",
   "metadata": {},
   "source": [
    "## Python Version"
   ]
  },
  {
   "cell_type": "code",
   "execution_count": null,
   "id": "fcc1a523",
   "metadata": {},
   "outputs": [],
   "source": [
    "2.x\n",
    "3.x"
   ]
  },
  {
   "cell_type": "code",
   "execution_count": 1,
   "id": "f6048801",
   "metadata": {},
   "outputs": [
    {
     "name": "stdout",
     "output_type": "stream",
     "text": [
      "The Zen of Python, by Tim Peters\n",
      "\n",
      "Beautiful is better than ugly.\n",
      "Explicit is better than implicit.\n",
      "Simple is better than complex.\n",
      "Complex is better than complicated.\n",
      "Flat is better than nested.\n",
      "Sparse is better than dense.\n",
      "Readability counts.\n",
      "Special cases aren't special enough to break the rules.\n",
      "Although practicality beats purity.\n",
      "Errors should never pass silently.\n",
      "Unless explicitly silenced.\n",
      "In the face of ambiguity, refuse the temptation to guess.\n",
      "There should be one-- and preferably only one --obvious way to do it.\n",
      "Although that way may not be obvious at first unless you're Dutch.\n",
      "Now is better than never.\n",
      "Although never is often better than *right* now.\n",
      "If the implementation is hard to explain, it's a bad idea.\n",
      "If the implementation is easy to explain, it may be a good idea.\n",
      "Namespaces are one honking great idea -- let's do more of those!\n"
     ]
    }
   ],
   "source": [
    "import this"
   ]
  },
  {
   "cell_type": "code",
   "execution_count": null,
   "id": "e48ae274",
   "metadata": {},
   "outputs": [],
   "source": [
    "print(\"Hello World!\")\n",
    "print(\"Hello World!\")"
   ]
  },
  {
   "cell_type": "code",
   "execution_count": null,
   "id": "3d2df8e0",
   "metadata": {},
   "outputs": [],
   "source": [
    "print(\"Hello World!\")\n",
    "print(\"Hello World!\")"
   ]
  },
  {
   "cell_type": "markdown",
   "id": "6f23d67c",
   "metadata": {},
   "source": [
    "# Data Types In Python"
   ]
  },
  {
   "cell_type": "markdown",
   "id": "f9df2707",
   "metadata": {},
   "source": [
    "int\n",
    "\n",
    "float\n",
    "\n",
    "string\n",
    "\n",
    "complex \n",
    "\n",
    "boolean"
   ]
  },
  {
   "cell_type": "code",
   "execution_count": 1,
   "id": "b92a0848",
   "metadata": {},
   "outputs": [],
   "source": [
    "a = 10"
   ]
  },
  {
   "cell_type": "code",
   "execution_count": 2,
   "id": "3663ffbc",
   "metadata": {},
   "outputs": [
    {
     "data": {
      "text/plain": [
       "int"
      ]
     },
     "execution_count": 2,
     "metadata": {},
     "output_type": "execute_result"
    }
   ],
   "source": [
    "type(a)"
   ]
  },
  {
   "cell_type": "code",
   "execution_count": 3,
   "id": "4ec4c5c2",
   "metadata": {},
   "outputs": [],
   "source": [
    "b = 2.5"
   ]
  },
  {
   "cell_type": "code",
   "execution_count": 4,
   "id": "4acbc3ca",
   "metadata": {},
   "outputs": [
    {
     "data": {
      "text/plain": [
       "float"
      ]
     },
     "execution_count": 4,
     "metadata": {},
     "output_type": "execute_result"
    }
   ],
   "source": [
    "type(b)"
   ]
  },
  {
   "cell_type": "code",
   "execution_count": 5,
   "id": "67475adb",
   "metadata": {},
   "outputs": [],
   "source": [
    "c = \"DATAWAVE.AI\""
   ]
  },
  {
   "cell_type": "code",
   "execution_count": 6,
   "id": "48b7c34d",
   "metadata": {},
   "outputs": [
    {
     "data": {
      "text/plain": [
       "str"
      ]
     },
     "execution_count": 6,
     "metadata": {},
     "output_type": "execute_result"
    }
   ],
   "source": [
    "type(c)"
   ]
  },
  {
   "cell_type": "code",
   "execution_count": 7,
   "id": "903d31e2",
   "metadata": {},
   "outputs": [],
   "source": [
    "d = 1+4j"
   ]
  },
  {
   "cell_type": "code",
   "execution_count": 8,
   "id": "173091d5",
   "metadata": {},
   "outputs": [
    {
     "data": {
      "text/plain": [
       "complex"
      ]
     },
     "execution_count": 8,
     "metadata": {},
     "output_type": "execute_result"
    }
   ],
   "source": [
    "type(d)"
   ]
  },
  {
   "cell_type": "code",
   "execution_count": 15,
   "id": "68b74a79",
   "metadata": {},
   "outputs": [],
   "source": [
    "e = False"
   ]
  },
  {
   "cell_type": "code",
   "execution_count": 16,
   "id": "ce6f2801",
   "metadata": {},
   "outputs": [
    {
     "data": {
      "text/plain": [
       "bool"
      ]
     },
     "execution_count": 16,
     "metadata": {},
     "output_type": "execute_result"
    }
   ],
   "source": [
    "type(e)"
   ]
  },
  {
   "cell_type": "code",
   "execution_count": 17,
   "id": "0f042721",
   "metadata": {},
   "outputs": [],
   "source": [
    "a = 120\n",
    "b = 2.2\n",
    "c = 1+3j\n",
    "d = True"
   ]
  },
  {
   "cell_type": "code",
   "execution_count": 18,
   "id": "ac516e2b",
   "metadata": {},
   "outputs": [
    {
     "data": {
      "text/plain": [
       "120"
      ]
     },
     "execution_count": 18,
     "metadata": {},
     "output_type": "execute_result"
    }
   ],
   "source": [
    "a"
   ]
  },
  {
   "cell_type": "code",
   "execution_count": 19,
   "id": "ff9106c1",
   "metadata": {},
   "outputs": [
    {
     "data": {
      "text/plain": [
       "2.2"
      ]
     },
     "execution_count": 19,
     "metadata": {},
     "output_type": "execute_result"
    }
   ],
   "source": [
    "b"
   ]
  },
  {
   "cell_type": "code",
   "execution_count": 20,
   "id": "9a0cb531",
   "metadata": {},
   "outputs": [
    {
     "data": {
      "text/plain": [
       "(1+3j)"
      ]
     },
     "execution_count": 20,
     "metadata": {},
     "output_type": "execute_result"
    }
   ],
   "source": [
    "c"
   ]
  },
  {
   "cell_type": "code",
   "execution_count": 21,
   "id": "c6720096",
   "metadata": {},
   "outputs": [
    {
     "data": {
      "text/plain": [
       "True"
      ]
     },
     "execution_count": 21,
     "metadata": {},
     "output_type": "execute_result"
    }
   ],
   "source": [
    "d"
   ]
  },
  {
   "cell_type": "code",
   "execution_count": 22,
   "id": "0ef11912",
   "metadata": {},
   "outputs": [],
   "source": [
    "a,b,c,d =120,2.2,1+3j,False"
   ]
  },
  {
   "cell_type": "code",
   "execution_count": 23,
   "id": "1bbb257e",
   "metadata": {},
   "outputs": [
    {
     "data": {
      "text/plain": [
       "120"
      ]
     },
     "execution_count": 23,
     "metadata": {},
     "output_type": "execute_result"
    }
   ],
   "source": [
    "a"
   ]
  },
  {
   "cell_type": "code",
   "execution_count": 24,
   "id": "510ad5b1",
   "metadata": {},
   "outputs": [
    {
     "data": {
      "text/plain": [
       "2.2"
      ]
     },
     "execution_count": 24,
     "metadata": {},
     "output_type": "execute_result"
    }
   ],
   "source": [
    "b"
   ]
  },
  {
   "cell_type": "code",
   "execution_count": 25,
   "id": "e358e1d0",
   "metadata": {},
   "outputs": [
    {
     "data": {
      "text/plain": [
       "(1+3j)"
      ]
     },
     "execution_count": 25,
     "metadata": {},
     "output_type": "execute_result"
    }
   ],
   "source": [
    "c"
   ]
  },
  {
   "cell_type": "code",
   "execution_count": 26,
   "id": "34d987f2",
   "metadata": {},
   "outputs": [
    {
     "data": {
      "text/plain": [
       "False"
      ]
     },
     "execution_count": 26,
     "metadata": {},
     "output_type": "execute_result"
    }
   ],
   "source": [
    "d"
   ]
  },
  {
   "cell_type": "markdown",
   "id": "75ad0381",
   "metadata": {},
   "source": [
    "# String Operations"
   ]
  },
  {
   "cell_type": "code",
   "execution_count": 27,
   "id": "e38fb063",
   "metadata": {},
   "outputs": [],
   "source": [
    "s = 'INDIA'"
   ]
  },
  {
   "cell_type": "code",
   "execution_count": 28,
   "id": "d8d86b32",
   "metadata": {},
   "outputs": [
    {
     "data": {
      "text/plain": [
       "'INDIA'"
      ]
     },
     "execution_count": 28,
     "metadata": {},
     "output_type": "execute_result"
    }
   ],
   "source": [
    "s"
   ]
  },
  {
   "cell_type": "code",
   "execution_count": 29,
   "id": "70d1ad46",
   "metadata": {},
   "outputs": [
    {
     "data": {
      "text/plain": [
       "str"
      ]
     },
     "execution_count": 29,
     "metadata": {},
     "output_type": "execute_result"
    }
   ],
   "source": [
    "type(s)"
   ]
  },
  {
   "cell_type": "code",
   "execution_count": 30,
   "id": "4443d06d",
   "metadata": {},
   "outputs": [
    {
     "data": {
      "text/plain": [
       "5"
      ]
     },
     "execution_count": 30,
     "metadata": {},
     "output_type": "execute_result"
    }
   ],
   "source": [
    "len(s)"
   ]
  },
  {
   "cell_type": "code",
   "execution_count": 31,
   "id": "3b23f277",
   "metadata": {},
   "outputs": [
    {
     "data": {
      "text/plain": [
       "'I'"
      ]
     },
     "execution_count": 31,
     "metadata": {},
     "output_type": "execute_result"
    }
   ],
   "source": [
    "s[0]"
   ]
  },
  {
   "cell_type": "code",
   "execution_count": 32,
   "id": "133f95ea",
   "metadata": {},
   "outputs": [
    {
     "data": {
      "text/plain": [
       "'N'"
      ]
     },
     "execution_count": 32,
     "metadata": {},
     "output_type": "execute_result"
    }
   ],
   "source": [
    "s[1]"
   ]
  },
  {
   "cell_type": "code",
   "execution_count": 33,
   "id": "f58cbc52",
   "metadata": {},
   "outputs": [
    {
     "data": {
      "text/plain": [
       "'D'"
      ]
     },
     "execution_count": 33,
     "metadata": {},
     "output_type": "execute_result"
    }
   ],
   "source": [
    "s[2]"
   ]
  },
  {
   "cell_type": "code",
   "execution_count": 64,
   "id": "32338c5e",
   "metadata": {},
   "outputs": [],
   "source": [
    "a = 'INDIA IS A GREAT NATION'"
   ]
  },
  {
   "cell_type": "code",
   "execution_count": 65,
   "id": "6c743aec",
   "metadata": {},
   "outputs": [
    {
     "data": {
      "text/plain": [
       "'INDIA IS A GREAT NATION'"
      ]
     },
     "execution_count": 65,
     "metadata": {},
     "output_type": "execute_result"
    }
   ],
   "source": [
    "a"
   ]
  },
  {
   "cell_type": "code",
   "execution_count": 66,
   "id": "86e494ce",
   "metadata": {},
   "outputs": [
    {
     "data": {
      "text/plain": [
       "'INDIA'"
      ]
     },
     "execution_count": 66,
     "metadata": {},
     "output_type": "execute_result"
    }
   ],
   "source": [
    "a[0:5]"
   ]
  },
  {
   "cell_type": "code",
   "execution_count": 67,
   "id": "e64728a6",
   "metadata": {},
   "outputs": [
    {
     "data": {
      "text/plain": [
       "'INDIA IS A'"
      ]
     },
     "execution_count": 67,
     "metadata": {},
     "output_type": "execute_result"
    }
   ],
   "source": [
    "a[0:10]"
   ]
  },
  {
   "cell_type": "code",
   "execution_count": 68,
   "id": "66ccece4",
   "metadata": {},
   "outputs": [
    {
     "data": {
      "text/plain": [
       "'S A'"
      ]
     },
     "execution_count": 68,
     "metadata": {},
     "output_type": "execute_result"
    }
   ],
   "source": [
    "a[7:10]"
   ]
  },
  {
   "cell_type": "code",
   "execution_count": 69,
   "id": "4a2d4d1e",
   "metadata": {},
   "outputs": [
    {
     "data": {
      "text/plain": [
       "'A'"
      ]
     },
     "execution_count": 69,
     "metadata": {},
     "output_type": "execute_result"
    }
   ],
   "source": [
    "a[18]"
   ]
  },
  {
   "cell_type": "code",
   "execution_count": 70,
   "id": "72162174",
   "metadata": {},
   "outputs": [
    {
     "data": {
      "text/plain": [
       "'INDIA IS A GREAT NATION'"
      ]
     },
     "execution_count": 70,
     "metadata": {},
     "output_type": "execute_result"
    }
   ],
   "source": [
    "a"
   ]
  },
  {
   "cell_type": "markdown",
   "id": "fe5e1e0d",
   "metadata": {},
   "source": [
    "## Alternate char access"
   ]
  },
  {
   "cell_type": "code",
   "execution_count": 71,
   "id": "43537b49",
   "metadata": {},
   "outputs": [
    {
     "data": {
      "text/plain": [
       "'INDIA IS A GREAT NATION'"
      ]
     },
     "execution_count": 71,
     "metadata": {},
     "output_type": "execute_result"
    }
   ],
   "source": [
    "a[0:100]"
   ]
  },
  {
   "cell_type": "code",
   "execution_count": 72,
   "id": "261bd922",
   "metadata": {},
   "outputs": [
    {
     "data": {
      "text/plain": [
       "'INDIA IS A GREAT NATION'"
      ]
     },
     "execution_count": 72,
     "metadata": {},
     "output_type": "execute_result"
    }
   ],
   "source": [
    "a[0:100:1]"
   ]
  },
  {
   "cell_type": "code",
   "execution_count": 73,
   "id": "f3c75eb8",
   "metadata": {},
   "outputs": [
    {
     "data": {
      "text/plain": [
       "'IDAI  RA AIN'"
      ]
     },
     "execution_count": 73,
     "metadata": {},
     "output_type": "execute_result"
    }
   ],
   "source": [
    "a[0:100:2]"
   ]
  },
  {
   "cell_type": "code",
   "execution_count": 74,
   "id": "8ed61dc9",
   "metadata": {},
   "outputs": [
    {
     "data": {
      "text/plain": [
       "'IA R I'"
      ]
     },
     "execution_count": 74,
     "metadata": {},
     "output_type": "execute_result"
    }
   ],
   "source": [
    "a[0:100:4]"
   ]
  },
  {
   "cell_type": "code",
   "execution_count": 75,
   "id": "dad4abda",
   "metadata": {},
   "outputs": [
    {
     "data": {
      "text/plain": [
       "'INDIA IS A GREAT NATION'"
      ]
     },
     "execution_count": 75,
     "metadata": {},
     "output_type": "execute_result"
    }
   ],
   "source": [
    "a"
   ]
  },
  {
   "cell_type": "markdown",
   "id": "373313bc",
   "metadata": {},
   "source": [
    "## String Reverse"
   ]
  },
  {
   "cell_type": "code",
   "execution_count": 76,
   "id": "da43dfb2",
   "metadata": {},
   "outputs": [
    {
     "data": {
      "text/plain": [
       "'NOITAN TAERG A SI AIDNI'"
      ]
     },
     "execution_count": 76,
     "metadata": {},
     "output_type": "execute_result"
    }
   ],
   "source": [
    "a[::-1]"
   ]
  },
  {
   "cell_type": "code",
   "execution_count": 77,
   "id": "5cf9270d",
   "metadata": {},
   "outputs": [
    {
     "data": {
      "text/plain": [
       "'INDIA IS A GREAT NATION'"
      ]
     },
     "execution_count": 77,
     "metadata": {},
     "output_type": "execute_result"
    }
   ],
   "source": [
    "a"
   ]
  },
  {
   "cell_type": "markdown",
   "id": "aeaa6bea",
   "metadata": {},
   "source": [
    "## Find char in index"
   ]
  },
  {
   "cell_type": "code",
   "execution_count": 78,
   "id": "19e405b5",
   "metadata": {},
   "outputs": [
    {
     "data": {
      "text/plain": [
       "'INDIA IS A GREAT NATION'"
      ]
     },
     "execution_count": 78,
     "metadata": {},
     "output_type": "execute_result"
    }
   ],
   "source": [
    "a"
   ]
  },
  {
   "cell_type": "code",
   "execution_count": 79,
   "id": "edc7acbc",
   "metadata": {},
   "outputs": [
    {
     "data": {
      "text/plain": [
       "11"
      ]
     },
     "execution_count": 79,
     "metadata": {},
     "output_type": "execute_result"
    }
   ],
   "source": [
    "a.find(\"G\")"
   ]
  },
  {
   "cell_type": "code",
   "execution_count": 80,
   "id": "0ea9ca06",
   "metadata": {},
   "outputs": [
    {
     "data": {
      "text/plain": [
       "2"
      ]
     },
     "execution_count": 80,
     "metadata": {},
     "output_type": "execute_result"
    }
   ],
   "source": [
    "a.find(\"D\")"
   ]
  },
  {
   "cell_type": "code",
   "execution_count": 81,
   "id": "1361fa10",
   "metadata": {},
   "outputs": [
    {
     "data": {
      "text/plain": [
       "11"
      ]
     },
     "execution_count": 81,
     "metadata": {},
     "output_type": "execute_result"
    }
   ],
   "source": [
    "a.find(\"GRE\")"
   ]
  },
  {
   "cell_type": "markdown",
   "id": "f1901ecb",
   "metadata": {},
   "source": [
    "## Case Change"
   ]
  },
  {
   "cell_type": "code",
   "execution_count": 82,
   "id": "5edcdd3e",
   "metadata": {},
   "outputs": [],
   "source": [
    "a = a.capitalize()"
   ]
  },
  {
   "cell_type": "code",
   "execution_count": 83,
   "id": "4c745274",
   "metadata": {},
   "outputs": [
    {
     "data": {
      "text/plain": [
       "'India is a great nation'"
      ]
     },
     "execution_count": 83,
     "metadata": {},
     "output_type": "execute_result"
    }
   ],
   "source": [
    "a"
   ]
  },
  {
   "cell_type": "code",
   "execution_count": 84,
   "id": "5ceb231a",
   "metadata": {},
   "outputs": [
    {
     "data": {
      "text/plain": [
       "'India is a great nation'"
      ]
     },
     "execution_count": 84,
     "metadata": {},
     "output_type": "execute_result"
    }
   ],
   "source": [
    "a"
   ]
  },
  {
   "cell_type": "code",
   "execution_count": 85,
   "id": "dc403663",
   "metadata": {},
   "outputs": [
    {
     "data": {
      "text/plain": [
       "'INDIA IS A GREAT NATION'"
      ]
     },
     "execution_count": 85,
     "metadata": {},
     "output_type": "execute_result"
    }
   ],
   "source": [
    "a.upper()"
   ]
  },
  {
   "cell_type": "code",
   "execution_count": 86,
   "id": "99aaefae",
   "metadata": {},
   "outputs": [
    {
     "data": {
      "text/plain": [
       "'india is a great nation'"
      ]
     },
     "execution_count": 86,
     "metadata": {},
     "output_type": "execute_result"
    }
   ],
   "source": [
    "a.lower()"
   ]
  },
  {
   "cell_type": "code",
   "execution_count": 87,
   "id": "d7fe49d0",
   "metadata": {},
   "outputs": [
    {
     "data": {
      "text/plain": [
       "False"
      ]
     },
     "execution_count": 87,
     "metadata": {},
     "output_type": "execute_result"
    }
   ],
   "source": [
    "a.isalnum()"
   ]
  },
  {
   "cell_type": "code",
   "execution_count": 88,
   "id": "d91831b3",
   "metadata": {},
   "outputs": [],
   "source": [
    "t = \"    sthfgdv dftei bvd     \""
   ]
  },
  {
   "cell_type": "code",
   "execution_count": 89,
   "id": "683f7c7a",
   "metadata": {},
   "outputs": [
    {
     "data": {
      "text/plain": [
       "'    sthfgdv dftei bvd     '"
      ]
     },
     "execution_count": 89,
     "metadata": {},
     "output_type": "execute_result"
    }
   ],
   "source": [
    "t"
   ]
  },
  {
   "cell_type": "code",
   "execution_count": 90,
   "id": "e3f79dfc",
   "metadata": {},
   "outputs": [
    {
     "data": {
      "text/plain": [
       "'sthfgdv dftei bvd'"
      ]
     },
     "execution_count": 90,
     "metadata": {},
     "output_type": "execute_result"
    }
   ],
   "source": [
    "t.strip()"
   ]
  },
  {
   "cell_type": "code",
   "execution_count": 91,
   "id": "789728cf",
   "metadata": {},
   "outputs": [],
   "source": [
    "a = 'INDIA IS A GREAT NATION'"
   ]
  },
  {
   "cell_type": "code",
   "execution_count": 92,
   "id": "bac9cb60",
   "metadata": {},
   "outputs": [
    {
     "data": {
      "text/plain": [
       "'INDIA IS A GREAT NATION'"
      ]
     },
     "execution_count": 92,
     "metadata": {},
     "output_type": "execute_result"
    }
   ],
   "source": [
    "a"
   ]
  },
  {
   "cell_type": "code",
   "execution_count": 94,
   "id": "7d330d18",
   "metadata": {},
   "outputs": [
    {
     "data": {
      "text/plain": [
       "['INDIA', 'IS', 'A', 'GREAT', 'NATION']"
      ]
     },
     "execution_count": 94,
     "metadata": {},
     "output_type": "execute_result"
    }
   ],
   "source": [
    "a.split()"
   ]
  },
  {
   "cell_type": "markdown",
   "id": "5b7ea405",
   "metadata": {},
   "source": [
    "# LIST"
   ]
  },
  {
   "cell_type": "code",
   "execution_count": 7,
   "id": "1e2d4666",
   "metadata": {},
   "outputs": [
    {
     "data": {
      "text/plain": [
       "[]"
      ]
     },
     "execution_count": 7,
     "metadata": {},
     "output_type": "execute_result"
    }
   ],
   "source": [
    "list()"
   ]
  },
  {
   "cell_type": "code",
   "execution_count": 8,
   "id": "0efd59fd",
   "metadata": {},
   "outputs": [],
   "source": [
    "t = []"
   ]
  },
  {
   "cell_type": "code",
   "execution_count": 9,
   "id": "10b3c412",
   "metadata": {},
   "outputs": [
    {
     "data": {
      "text/plain": [
       "[]"
      ]
     },
     "execution_count": 9,
     "metadata": {},
     "output_type": "execute_result"
    }
   ],
   "source": [
    "t"
   ]
  },
  {
   "cell_type": "code",
   "execution_count": 10,
   "id": "9f4490e2",
   "metadata": {},
   "outputs": [
    {
     "data": {
      "text/plain": [
       "list"
      ]
     },
     "execution_count": 10,
     "metadata": {},
     "output_type": "execute_result"
    }
   ],
   "source": [
    "type(t)"
   ]
  },
  {
   "cell_type": "code",
   "execution_count": 11,
   "id": "51adc049",
   "metadata": {},
   "outputs": [
    {
     "data": {
      "text/plain": [
       "0"
      ]
     },
     "execution_count": 11,
     "metadata": {},
     "output_type": "execute_result"
    }
   ],
   "source": [
    "len(t)"
   ]
  },
  {
   "cell_type": "code",
   "execution_count": 12,
   "id": "bb53a1bf",
   "metadata": {},
   "outputs": [],
   "source": [
    "l = ['INDIA',5,6.5,(1+2J),True]"
   ]
  },
  {
   "cell_type": "code",
   "execution_count": 13,
   "id": "e3b62f30",
   "metadata": {},
   "outputs": [
    {
     "data": {
      "text/plain": [
       "['INDIA', 5, 6.5, (1+2j), True]"
      ]
     },
     "execution_count": 13,
     "metadata": {},
     "output_type": "execute_result"
    }
   ],
   "source": [
    "l"
   ]
  },
  {
   "cell_type": "code",
   "execution_count": 14,
   "id": "18fbe6ec",
   "metadata": {},
   "outputs": [
    {
     "data": {
      "text/plain": [
       "'INDIA'"
      ]
     },
     "execution_count": 14,
     "metadata": {},
     "output_type": "execute_result"
    }
   ],
   "source": [
    "l[0]"
   ]
  },
  {
   "cell_type": "code",
   "execution_count": 15,
   "id": "88156350",
   "metadata": {},
   "outputs": [
    {
     "data": {
      "text/plain": [
       "5"
      ]
     },
     "execution_count": 15,
     "metadata": {},
     "output_type": "execute_result"
    }
   ],
   "source": [
    "l[1]"
   ]
  },
  {
   "cell_type": "code",
   "execution_count": 16,
   "id": "8ab63adf",
   "metadata": {},
   "outputs": [
    {
     "data": {
      "text/plain": [
       "True"
      ]
     },
     "execution_count": 16,
     "metadata": {},
     "output_type": "execute_result"
    }
   ],
   "source": [
    "l[-1]"
   ]
  },
  {
   "cell_type": "code",
   "execution_count": 17,
   "id": "b32ed8f5",
   "metadata": {},
   "outputs": [
    {
     "data": {
      "text/plain": [
       "['INDIA', 5, 6.5]"
      ]
     },
     "execution_count": 17,
     "metadata": {},
     "output_type": "execute_result"
    }
   ],
   "source": [
    "l[0:3]"
   ]
  },
  {
   "cell_type": "code",
   "execution_count": 18,
   "id": "06522374",
   "metadata": {},
   "outputs": [
    {
     "data": {
      "text/plain": [
       "[6.5, (1+2j), True]"
      ]
     },
     "execution_count": 18,
     "metadata": {},
     "output_type": "execute_result"
    }
   ],
   "source": [
    "l[2:5]"
   ]
  },
  {
   "cell_type": "code",
   "execution_count": 19,
   "id": "313069a1",
   "metadata": {},
   "outputs": [],
   "source": [
    "l1 = ['INDIA',123,True]\n",
    "l2 = ['maharashtra',2587,False]"
   ]
  },
  {
   "cell_type": "code",
   "execution_count": 20,
   "id": "3fb5b8c0",
   "metadata": {},
   "outputs": [
    {
     "data": {
      "text/plain": [
       "['INDIA', 123, True]"
      ]
     },
     "execution_count": 20,
     "metadata": {},
     "output_type": "execute_result"
    }
   ],
   "source": [
    "l1"
   ]
  },
  {
   "cell_type": "code",
   "execution_count": 21,
   "id": "08569ebe",
   "metadata": {},
   "outputs": [
    {
     "data": {
      "text/plain": [
       "['maharashtra', 2587, False]"
      ]
     },
     "execution_count": 21,
     "metadata": {},
     "output_type": "execute_result"
    }
   ],
   "source": [
    "l2"
   ]
  },
  {
   "cell_type": "code",
   "execution_count": 22,
   "id": "008cfb7b",
   "metadata": {},
   "outputs": [],
   "source": [
    "l3 = l1 + l2"
   ]
  },
  {
   "cell_type": "code",
   "execution_count": 23,
   "id": "912d510c",
   "metadata": {},
   "outputs": [
    {
     "data": {
      "text/plain": [
       "['INDIA', 123, True, 'maharashtra', 2587, False]"
      ]
     },
     "execution_count": 23,
     "metadata": {},
     "output_type": "execute_result"
    }
   ],
   "source": [
    "l3"
   ]
  },
  {
   "cell_type": "code",
   "execution_count": 24,
   "id": "556f2ab0",
   "metadata": {},
   "outputs": [
    {
     "data": {
      "text/plain": [
       "['INDIA', 123, True, 'maharashtra', 2587, False, 'PUNE']"
      ]
     },
     "execution_count": 24,
     "metadata": {},
     "output_type": "execute_result"
    }
   ],
   "source": [
    "l3 + ['PUNE']"
   ]
  },
  {
   "cell_type": "code",
   "execution_count": 25,
   "id": "78117acb",
   "metadata": {},
   "outputs": [
    {
     "data": {
      "text/plain": [
       "False"
      ]
     },
     "execution_count": 25,
     "metadata": {},
     "output_type": "execute_result"
    }
   ],
   "source": [
    "l3.pop()"
   ]
  },
  {
   "cell_type": "code",
   "execution_count": 26,
   "id": "d4d2a1f8",
   "metadata": {},
   "outputs": [
    {
     "data": {
      "text/plain": [
       "'INDIA'"
      ]
     },
     "execution_count": 26,
     "metadata": {},
     "output_type": "execute_result"
    }
   ],
   "source": [
    "l3.pop(0)"
   ]
  },
  {
   "cell_type": "code",
   "execution_count": 27,
   "id": "970b1113",
   "metadata": {},
   "outputs": [
    {
     "data": {
      "text/plain": [
       "[123, True, 'maharashtra', 2587]"
      ]
     },
     "execution_count": 27,
     "metadata": {},
     "output_type": "execute_result"
    }
   ],
   "source": [
    "l3"
   ]
  },
  {
   "cell_type": "markdown",
   "id": "1273c2bd",
   "metadata": {},
   "source": [
    "# Insertion"
   ]
  },
  {
   "cell_type": "code",
   "execution_count": 30,
   "id": "16043b49",
   "metadata": {},
   "outputs": [],
   "source": [
    "l3.insert(0,'JAY')"
   ]
  },
  {
   "cell_type": "code",
   "execution_count": 31,
   "id": "26650637",
   "metadata": {},
   "outputs": [
    {
     "data": {
      "text/plain": [
       "['JAY', 123, True, 'maharashtra', 2587]"
      ]
     },
     "execution_count": 31,
     "metadata": {},
     "output_type": "execute_result"
    }
   ],
   "source": [
    "l3"
   ]
  },
  {
   "cell_type": "code",
   "execution_count": 32,
   "id": "57b55a94",
   "metadata": {},
   "outputs": [],
   "source": [
    "l3.insert(0,'INDIA')"
   ]
  },
  {
   "cell_type": "code",
   "execution_count": 33,
   "id": "89dd1f6c",
   "metadata": {},
   "outputs": [
    {
     "data": {
      "text/plain": [
       "['INDIA', 'JAY', 123, True, 'maharashtra', 2587]"
      ]
     },
     "execution_count": 33,
     "metadata": {},
     "output_type": "execute_result"
    }
   ],
   "source": [
    "l3"
   ]
  },
  {
   "cell_type": "code",
   "execution_count": 34,
   "id": "6a94459c",
   "metadata": {},
   "outputs": [],
   "source": [
    "l3.insert(-1,[1,2,3])"
   ]
  },
  {
   "cell_type": "code",
   "execution_count": 35,
   "id": "50fb610f",
   "metadata": {},
   "outputs": [
    {
     "data": {
      "text/plain": [
       "['INDIA', 'JAY', 123, True, 'maharashtra', [1, 2, 3], 2587]"
      ]
     },
     "execution_count": 35,
     "metadata": {},
     "output_type": "execute_result"
    }
   ],
   "source": [
    "l3"
   ]
  },
  {
   "cell_type": "code",
   "execution_count": 36,
   "id": "49373de9",
   "metadata": {},
   "outputs": [
    {
     "data": {
      "text/plain": [
       "[1, 2, 3]"
      ]
     },
     "execution_count": 36,
     "metadata": {},
     "output_type": "execute_result"
    }
   ],
   "source": [
    "l3[-2]"
   ]
  },
  {
   "cell_type": "code",
   "execution_count": 37,
   "id": "6d75feb3",
   "metadata": {},
   "outputs": [
    {
     "data": {
      "text/plain": [
       "2"
      ]
     },
     "execution_count": 37,
     "metadata": {},
     "output_type": "execute_result"
    }
   ],
   "source": [
    "l3[-2][-2]"
   ]
  },
  {
   "cell_type": "code",
   "execution_count": 40,
   "id": "97143b52",
   "metadata": {},
   "outputs": [
    {
     "data": {
      "text/plain": [
       "1"
      ]
     },
     "execution_count": 40,
     "metadata": {},
     "output_type": "execute_result"
    }
   ],
   "source": [
    "l3[5][0]"
   ]
  },
  {
   "cell_type": "code",
   "execution_count": 58,
   "id": "8a80d29d",
   "metadata": {},
   "outputs": [],
   "source": [
    "l3.append('wertyujik')"
   ]
  },
  {
   "cell_type": "code",
   "execution_count": 59,
   "id": "fedcf285",
   "metadata": {},
   "outputs": [
    {
     "data": {
      "text/plain": [
       "['INDIA',\n",
       " 'JAY',\n",
       " 123,\n",
       " True,\n",
       " 'maharashtra',\n",
       " [1, 2, 3],\n",
       " 2587,\n",
       " 'wertyujik',\n",
       " 'wertyujik']"
      ]
     },
     "execution_count": 59,
     "metadata": {},
     "output_type": "execute_result"
    }
   ],
   "source": [
    "l3"
   ]
  },
  {
   "cell_type": "code",
   "execution_count": 41,
   "id": "5e820647",
   "metadata": {},
   "outputs": [
    {
     "data": {
      "text/plain": [
       "[2587, [1, 2, 3], 'maharashtra', True, 123, 'JAY', 'INDIA']"
      ]
     },
     "execution_count": 41,
     "metadata": {},
     "output_type": "execute_result"
    }
   ],
   "source": [
    "l3[::-1]"
   ]
  },
  {
   "cell_type": "code",
   "execution_count": 47,
   "id": "d0d5669c",
   "metadata": {},
   "outputs": [],
   "source": [
    "l4 = [23,45,14,67,89,0,65,5]"
   ]
  },
  {
   "cell_type": "code",
   "execution_count": 48,
   "id": "07c08226",
   "metadata": {},
   "outputs": [
    {
     "data": {
      "text/plain": [
       "[23, 45, 14, 67, 89, 0, 65, 5]"
      ]
     },
     "execution_count": 48,
     "metadata": {},
     "output_type": "execute_result"
    }
   ],
   "source": [
    "l4"
   ]
  },
  {
   "cell_type": "code",
   "execution_count": 49,
   "id": "32d46211",
   "metadata": {},
   "outputs": [],
   "source": [
    "l4.sort()"
   ]
  },
  {
   "cell_type": "code",
   "execution_count": 50,
   "id": "3e065458",
   "metadata": {},
   "outputs": [
    {
     "data": {
      "text/plain": [
       "[0, 5, 14, 23, 45, 65, 67, 89]"
      ]
     },
     "execution_count": 50,
     "metadata": {},
     "output_type": "execute_result"
    }
   ],
   "source": [
    "l4"
   ]
  },
  {
   "cell_type": "code",
   "execution_count": 51,
   "id": "efd0c7c8",
   "metadata": {},
   "outputs": [
    {
     "data": {
      "text/plain": [
       "[89, 67, 65, 45, 23, 14, 5, 0]"
      ]
     },
     "execution_count": 51,
     "metadata": {},
     "output_type": "execute_result"
    }
   ],
   "source": [
    "l4.sort(reverse=True)\n",
    "l4"
   ]
  },
  {
   "cell_type": "code",
   "execution_count": 52,
   "id": "ead424fe",
   "metadata": {},
   "outputs": [],
   "source": [
    "l4.clear()"
   ]
  },
  {
   "cell_type": "code",
   "execution_count": 53,
   "id": "dd4b5c51",
   "metadata": {},
   "outputs": [
    {
     "data": {
      "text/plain": [
       "[]"
      ]
     },
     "execution_count": 53,
     "metadata": {},
     "output_type": "execute_result"
    }
   ],
   "source": [
    "l4"
   ]
  },
  {
   "cell_type": "markdown",
   "id": "e4129fea",
   "metadata": {},
   "source": [
    "# My Code"
   ]
  },
  {
   "cell_type": "code",
   "execution_count": 54,
   "id": "6d5720b9",
   "metadata": {},
   "outputs": [],
   "source": [
    "student_name_list = ['MOHINI','AMRUTA','JAY','PRANAV']"
   ]
  },
  {
   "cell_type": "code",
   "execution_count": 55,
   "id": "1c007381",
   "metadata": {},
   "outputs": [
    {
     "data": {
      "text/plain": [
       "['MOHINI', 'AMRUTA', 'JAY', 'PRANAV']"
      ]
     },
     "execution_count": 55,
     "metadata": {},
     "output_type": "execute_result"
    }
   ],
   "source": [
    "student_name_list"
   ]
  },
  {
   "cell_type": "markdown",
   "id": "3520dcd6",
   "metadata": {},
   "source": [
    "## Conditioning"
   ]
  },
  {
   "cell_type": "code",
   "execution_count": 99,
   "id": "36777512",
   "metadata": {},
   "outputs": [
    {
     "name": "stdout",
     "output_type": "stream",
     "text": [
      "Yash:- Pass\n"
     ]
    }
   ],
   "source": [
    "yash = 45\n",
    "if yash > 35:\n",
    "    print(\"Yash:- Pass\")"
   ]
  },
  {
   "cell_type": "code",
   "execution_count": 100,
   "id": "0c805381",
   "metadata": {},
   "outputs": [],
   "source": [
    "a = 20\n",
    "if a < 10:\n",
    "    print(\"a is greater than 10\")"
   ]
  },
  {
   "cell_type": "code",
   "execution_count": 101,
   "id": "c2f7eafd",
   "metadata": {},
   "outputs": [
    {
     "data": {
      "text/plain": [
       "True"
      ]
     },
     "execution_count": 101,
     "metadata": {},
     "output_type": "execute_result"
    }
   ],
   "source": [
    "a > 10"
   ]
  },
  {
   "cell_type": "code",
   "execution_count": 102,
   "id": "f0a41cc9",
   "metadata": {},
   "outputs": [
    {
     "data": {
      "text/plain": [
       "False"
      ]
     },
     "execution_count": 102,
     "metadata": {},
     "output_type": "execute_result"
    }
   ],
   "source": [
    "a < 10"
   ]
  },
  {
   "cell_type": "code",
   "execution_count": 103,
   "id": "71e13645",
   "metadata": {},
   "outputs": [
    {
     "name": "stdout",
     "output_type": "stream",
     "text": [
      "result:- Pass\n"
     ]
    }
   ],
   "source": [
    "score = 95\n",
    "\n",
    "if score > 35:\n",
    "    print(\"result:- Pass\")\n",
    "    \n",
    "else:\n",
    "    print(\"result:- Fail\")"
   ]
  },
  {
   "cell_type": "code",
   "execution_count": 104,
   "id": "d89fc81c",
   "metadata": {},
   "outputs": [
    {
     "name": "stdout",
     "output_type": "stream",
     "text": [
      "result:- Fail\n"
     ]
    }
   ],
   "source": [
    "score = 9\n",
    "\n",
    "if score > 35:\n",
    "    print(\"result:- Pass\")\n",
    "    \n",
    "else:\n",
    "    print(\"result:- Fail\")"
   ]
  },
  {
   "cell_type": "code",
   "execution_count": 105,
   "id": "6f805b20",
   "metadata": {},
   "outputs": [
    {
     "name": "stdout",
     "output_type": "stream",
     "text": [
      "1 is odd\n"
     ]
    }
   ],
   "source": [
    "n = 1\n",
    "\n",
    "if n%2 == 0:\n",
    "    print(f'{n} is even')\n",
    "else:\n",
    "     print(f\"{n} is odd\")\n",
    "    "
   ]
  },
  {
   "cell_type": "code",
   "execution_count": 106,
   "id": "09d60387",
   "metadata": {},
   "outputs": [
    {
     "name": "stdout",
     "output_type": "stream",
     "text": [
      "-5 is negative\n"
     ]
    }
   ],
   "source": [
    "n = -5\n",
    "\n",
    "if n > 0:\n",
    "    print(f\"{n} is positive\")\n",
    "else:\n",
    "     print(f\"{n} is negative\")"
   ]
  },
  {
   "cell_type": "code",
   "execution_count": 107,
   "id": "5a888949",
   "metadata": {},
   "outputs": [
    {
     "name": "stdout",
     "output_type": "stream",
     "text": [
      "Please Enter any number56\n",
      "56.0is positive\n"
     ]
    }
   ],
   "source": [
    "n = float(input(\"Please Enter any number\"))\n",
    "\n",
    "if n > 0:\n",
    "    print(f\"{n}is positive\")\n",
    "else:\n",
    "     print(f\"{n}is negative\")\n",
    "    "
   ]
  },
  {
   "cell_type": "code",
   "execution_count": 109,
   "id": "6f85d09f",
   "metadata": {},
   "outputs": [
    {
     "name": "stdout",
     "output_type": "stream",
     "text": [
      "Enter income amount within range 1 to 100: 44\n",
      "You can not afford anything\n"
     ]
    }
   ],
   "source": [
    "income = float(input(\"Enter income amount within range 1 to 100: \"))\n",
    "\n",
    "if income > 50:\n",
    "    print(\"You can afford to buy bike\")\n",
    "    \n",
    "else: \n",
    "    print(\"You can not afford anything\")\n"
   ]
  },
  {
   "cell_type": "code",
   "execution_count": null,
   "id": "d1a49f6f",
   "metadata": {},
   "outputs": [],
   "source": []
  }
 ],
 "metadata": {
  "kernelspec": {
   "display_name": "Python 3 (ipykernel)",
   "language": "python",
   "name": "python3"
  },
  "language_info": {
   "codemirror_mode": {
    "name": "ipython",
    "version": 3
   },
   "file_extension": ".py",
   "mimetype": "text/x-python",
   "name": "python",
   "nbconvert_exporter": "python",
   "pygments_lexer": "ipython3",
   "version": "3.9.13"
  }
 },
 "nbformat": 4,
 "nbformat_minor": 5
}
