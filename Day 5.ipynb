{
 "cells": [
  {
   "cell_type": "code",
   "execution_count": 3,
   "id": "0d5d53e9",
   "metadata": {},
   "outputs": [],
   "source": [
    "def fun1():\n",
    "    print(\"fun 1\")\n",
    "    \n",
    "def fun2():\n",
    "    print(\"fun 2\")\n",
    "    \n",
    "def fun3():\n",
    "    print(\"fun 3\")\n",
    "    \n",
    "def fun4():\n",
    "    print(\"fun 4\")\n",
    "    \n",
    "def fun5():\n",
    "    print(\"fun 5\")"
   ]
  },
  {
   "cell_type": "code",
   "execution_count": 4,
   "id": "f9b63b90",
   "metadata": {},
   "outputs": [
    {
     "name": "stdout",
     "output_type": "stream",
     "text": [
      "fun 1\n"
     ]
    }
   ],
   "source": [
    "fun1()"
   ]
  },
  {
   "cell_type": "code",
   "execution_count": 6,
   "id": "c8039a7b",
   "metadata": {},
   "outputs": [
    {
     "name": "stdout",
     "output_type": "stream",
     "text": [
      "fun 2\n"
     ]
    }
   ],
   "source": [
    "fun2()"
   ]
  },
  {
   "cell_type": "code",
   "execution_count": 7,
   "id": "85ca41ba",
   "metadata": {},
   "outputs": [
    {
     "name": "stdout",
     "output_type": "stream",
     "text": [
      "fun 5\n"
     ]
    }
   ],
   "source": [
    "fun5()"
   ]
  },
  {
   "cell_type": "code",
   "execution_count": 8,
   "id": "dbab4686",
   "metadata": {},
   "outputs": [],
   "source": [
    "a = 1\n",
    "b = 2\n",
    "c = 3"
   ]
  },
  {
   "cell_type": "code",
   "execution_count": 9,
   "id": "51bbdece",
   "metadata": {},
   "outputs": [
    {
     "data": {
      "text/plain": [
       "1"
      ]
     },
     "execution_count": 9,
     "metadata": {},
     "output_type": "execute_result"
    }
   ],
   "source": [
    "a"
   ]
  },
  {
   "cell_type": "code",
   "execution_count": 10,
   "id": "835fcb0d",
   "metadata": {},
   "outputs": [
    {
     "data": {
      "text/plain": [
       "2"
      ]
     },
     "execution_count": 10,
     "metadata": {},
     "output_type": "execute_result"
    }
   ],
   "source": [
    "b"
   ]
  },
  {
   "cell_type": "code",
   "execution_count": 11,
   "id": "4faf6375",
   "metadata": {},
   "outputs": [
    {
     "data": {
      "text/plain": [
       "3"
      ]
     },
     "execution_count": 11,
     "metadata": {},
     "output_type": "execute_result"
    }
   ],
   "source": [
    "c"
   ]
  },
  {
   "cell_type": "markdown",
   "id": "845a17e6",
   "metadata": {},
   "source": [
    "### Object Oriented Programming"
   ]
  },
  {
   "cell_type": "code",
   "execution_count": null,
   "id": "a0f6b7ba",
   "metadata": {},
   "outputs": [],
   "source": [
    "class Emp:\n",
    "    pass"
   ]
  },
  {
   "cell_type": "markdown",
   "id": "9a926684",
   "metadata": {},
   "source": [
    "### Define the class"
   ]
  },
  {
   "cell_type": "code",
   "execution_count": 19,
   "id": "44304066",
   "metadata": {},
   "outputs": [],
   "source": [
    "class Student:\n",
    "    def introduction(self):\n",
    "        print(f\"my name is {self.name}\")"
   ]
  },
  {
   "cell_type": "markdown",
   "id": "2470232b",
   "metadata": {},
   "source": [
    "### Create object 1"
   ]
  },
  {
   "cell_type": "code",
   "execution_count": 22,
   "id": "0e933aa8",
   "metadata": {},
   "outputs": [],
   "source": [
    "obj1 = Student()"
   ]
  },
  {
   "cell_type": "code",
   "execution_count": 23,
   "id": "1d975b7b",
   "metadata": {},
   "outputs": [],
   "source": [
    "obj1.name = 'JAY' "
   ]
  },
  {
   "cell_type": "code",
   "execution_count": 24,
   "id": "6a2a2e02",
   "metadata": {},
   "outputs": [
    {
     "name": "stdout",
     "output_type": "stream",
     "text": [
      "my name is JAY\n"
     ]
    }
   ],
   "source": [
    "obj1.introduction()"
   ]
  },
  {
   "cell_type": "markdown",
   "id": "1d3fb6fd",
   "metadata": {},
   "source": [
    "### Create object 2"
   ]
  },
  {
   "cell_type": "code",
   "execution_count": 25,
   "id": "1ab16b66",
   "metadata": {},
   "outputs": [],
   "source": [
    "obj2 = Student()"
   ]
  },
  {
   "cell_type": "code",
   "execution_count": 26,
   "id": "d9763486",
   "metadata": {},
   "outputs": [],
   "source": [
    "obj2.name = 'MOHINI'"
   ]
  },
  {
   "cell_type": "code",
   "execution_count": 27,
   "id": "0b6b0ee4",
   "metadata": {},
   "outputs": [
    {
     "name": "stdout",
     "output_type": "stream",
     "text": [
      "my name is MOHINI\n"
     ]
    }
   ],
   "source": [
    "obj2.introduction()"
   ]
  },
  {
   "cell_type": "code",
   "execution_count": 31,
   "id": "d768d585",
   "metadata": {},
   "outputs": [],
   "source": [
    "class Student:\n",
    "    \n",
    "    def introduction(self, name):\n",
    "        print(f\"my name is {name}\")"
   ]
  },
  {
   "cell_type": "code",
   "execution_count": 32,
   "id": "c9a5817e",
   "metadata": {},
   "outputs": [
    {
     "name": "stdout",
     "output_type": "stream",
     "text": [
      "my name is Sachin\n",
      "my name is Sachin\n"
     ]
    }
   ],
   "source": [
    "obj = Student()\n",
    "\n",
    "obj.name = 'Sachin'\n",
    "obj.introduction(obj.name)\n",
    "obj.introduction('Sachin')"
   ]
  },
  {
   "cell_type": "code",
   "execution_count": 33,
   "id": "4dbe9566",
   "metadata": {},
   "outputs": [
    {
     "data": {
      "text/plain": [
       "2279287673808"
      ]
     },
     "execution_count": 33,
     "metadata": {},
     "output_type": "execute_result"
    }
   ],
   "source": [
    "id(obj)"
   ]
  },
  {
   "cell_type": "code",
   "execution_count": 34,
   "id": "3ad3a366",
   "metadata": {},
   "outputs": [
    {
     "data": {
      "text/plain": [
       "2279289536128"
      ]
     },
     "execution_count": 34,
     "metadata": {},
     "output_type": "execute_result"
    }
   ],
   "source": [
    "id(obj1)"
   ]
  },
  {
   "cell_type": "code",
   "execution_count": 35,
   "id": "db6a38ca",
   "metadata": {
    "collapsed": true
   },
   "outputs": [
    {
     "data": {
      "text/plain": [
       "2279289535840"
      ]
     },
     "execution_count": 35,
     "metadata": {},
     "output_type": "execute_result"
    }
   ],
   "source": [
    "id(obj2)"
   ]
  },
  {
   "cell_type": "code",
   "execution_count": 36,
   "id": "9129cf58",
   "metadata": {},
   "outputs": [],
   "source": [
    "obj.self = 'Sachin'"
   ]
  },
  {
   "cell_type": "code",
   "execution_count": 37,
   "id": "54c05852",
   "metadata": {},
   "outputs": [
    {
     "name": "stdout",
     "output_type": "stream",
     "text": [
      "my name is Sachin\n",
      "my name is Sachin\n"
     ]
    }
   ],
   "source": [
    "obj.introduction(obj.self)\n",
    "obj.introduction('Sachin')"
   ]
  },
  {
   "cell_type": "code",
   "execution_count": 38,
   "id": "8b37beaf",
   "metadata": {},
   "outputs": [
    {
     "data": {
      "text/plain": [
       "{'name': 'Sachin', 'self': 'Sachin'}"
      ]
     },
     "execution_count": 38,
     "metadata": {},
     "output_type": "execute_result"
    }
   ],
   "source": [
    "obj.__dict__"
   ]
  },
  {
   "cell_type": "code",
   "execution_count": 43,
   "id": "35629707",
   "metadata": {},
   "outputs": [],
   "source": [
    "class Student1:\n",
    "    def introduction(self, name, age, Roll_number):\n",
    "        print(f\"name: {name}, age: {age}, Roll_number: {Roll_number}\")"
   ]
  },
  {
   "cell_type": "code",
   "execution_count": 44,
   "id": "0ebc0bf4",
   "metadata": {},
   "outputs": [
    {
     "name": "stdout",
     "output_type": "stream",
     "text": [
      "name: Sachin, age: 41, Roll_number: 21\n"
     ]
    }
   ],
   "source": [
    "obj = Student1()\n",
    "obj.introduction(name='Sachin', age=41, Roll_number=21)"
   ]
  },
  {
   "cell_type": "code",
   "execution_count": 45,
   "id": "c967ad36",
   "metadata": {},
   "outputs": [
    {
     "name": "stdout",
     "output_type": "stream",
     "text": [
      "name: Rani, age: 21, Roll_number: 91\n"
     ]
    }
   ],
   "source": [
    "obj = Student1()\n",
    "obj.introduction(name='Rani', age=21, Roll_number=91)"
   ]
  },
  {
   "cell_type": "code",
   "execution_count": 53,
   "id": "aeb9192b",
   "metadata": {},
   "outputs": [
    {
     "data": {
      "text/plain": [
       "['__class__',\n",
       " '__delattr__',\n",
       " '__dict__',\n",
       " '__dir__',\n",
       " '__doc__',\n",
       " '__eq__',\n",
       " '__format__',\n",
       " '__ge__',\n",
       " '__getattribute__',\n",
       " '__gt__',\n",
       " '__hash__',\n",
       " '__init__',\n",
       " '__init_subclass__',\n",
       " '__le__',\n",
       " '__lt__',\n",
       " '__module__',\n",
       " '__ne__',\n",
       " '__new__',\n",
       " '__reduce__',\n",
       " '__reduce_ex__',\n",
       " '__repr__',\n",
       " '__setattr__',\n",
       " '__sizeof__',\n",
       " '__str__',\n",
       " '__subclasshook__',\n",
       " '__weakref__',\n",
       " 'education',\n",
       " 'gender',\n",
       " 'name',\n",
       " 'profession',\n",
       " 'show']"
      ]
     },
     "execution_count": 53,
     "metadata": {},
     "output_type": "execute_result"
    }
   ],
   "source": [
    "dir(obj1)"
   ]
  },
  {
   "cell_type": "code",
   "execution_count": 47,
   "id": "64e86a49",
   "metadata": {},
   "outputs": [
    {
     "data": {
      "text/plain": [
       "{'name': 'JAY'}"
      ]
     },
     "execution_count": 47,
     "metadata": {},
     "output_type": "execute_result"
    }
   ],
   "source": [
    "obj1.__dict__"
   ]
  },
  {
   "cell_type": "markdown",
   "id": "8a8f4169",
   "metadata": {},
   "source": [
    "### Constructor"
   ]
  },
  {
   "cell_type": "code",
   "execution_count": 48,
   "id": "c95d9ccc",
   "metadata": {},
   "outputs": [],
   "source": [
    "class Person:\n",
    "    def __init__(self, name, gender, education, profession):\n",
    "        self.name = name\n",
    "        self.gender = gender\n",
    "        self.education = education\n",
    "        self.profession = profession\n",
    "        \n",
    "    def show(self):\n",
    "        print(f\"name: {self.name}, gender: {self.gender}, education: {self.education}, profession: {self.profession}\")"
   ]
  },
  {
   "cell_type": "code",
   "execution_count": 49,
   "id": "c08063bb",
   "metadata": {},
   "outputs": [],
   "source": [
    "obj1 = Person(name = 'Ashish', gender = 'M', education = 'MS in AI', profession = 'AI')"
   ]
  },
  {
   "cell_type": "code",
   "execution_count": 50,
   "id": "b4a4008e",
   "metadata": {},
   "outputs": [
    {
     "name": "stdout",
     "output_type": "stream",
     "text": [
      "name: Ashish, gender: M, education: MS in AI, profession: AI\n"
     ]
    }
   ],
   "source": [
    "obj1.show()"
   ]
  },
  {
   "cell_type": "code",
   "execution_count": 54,
   "id": "35a6d9ea",
   "metadata": {},
   "outputs": [],
   "source": [
    "obj2 = Person(name = 'Mohini', gender = 'F', education = 'BE Coomputer', profession = 'Software Engineer')"
   ]
  },
  {
   "cell_type": "code",
   "execution_count": 55,
   "id": "a8a4a532",
   "metadata": {},
   "outputs": [
    {
     "name": "stdout",
     "output_type": "stream",
     "text": [
      "name: Mohini, gender: F, education: BE Coomputer, profession: Software Engineer\n"
     ]
    }
   ],
   "source": [
    "obj2.show()"
   ]
  },
  {
   "cell_type": "code",
   "execution_count": 56,
   "id": "47ee6798",
   "metadata": {},
   "outputs": [],
   "source": [
    "obj3 = Person(name = 'Shradhha', gender = 'F', education = 'M.Sc (Physics)', profession = 'Software Engineer')"
   ]
  },
  {
   "cell_type": "code",
   "execution_count": 57,
   "id": "ff63e727",
   "metadata": {},
   "outputs": [
    {
     "name": "stdout",
     "output_type": "stream",
     "text": [
      "name: Shradhha, gender: F, education: M.Sc (Physics), profession: Software Engineer\n"
     ]
    }
   ],
   "source": [
    "obj3.show()"
   ]
  },
  {
   "cell_type": "code",
   "execution_count": 73,
   "id": "1f28eca2",
   "metadata": {},
   "outputs": [
    {
     "data": {
      "text/plain": [
       "{'name': 'Shradhha',\n",
       " 'gender': 'F',\n",
       " 'education': 'M.Sc (Physics)',\n",
       " 'profession': 'Software Engineer'}"
      ]
     },
     "execution_count": 73,
     "metadata": {},
     "output_type": "execute_result"
    }
   ],
   "source": [
    "obj3.__dict__"
   ]
  },
  {
   "cell_type": "code",
   "execution_count": null,
   "id": "fa43a901",
   "metadata": {},
   "outputs": [],
   "source": []
  },
  {
   "cell_type": "code",
   "execution_count": 85,
   "id": "8b0db5bf",
   "metadata": {},
   "outputs": [],
   "source": [
    "class math:\n",
    "    def __init__(self):\n",
    "        self.a = 0\n",
    "        self.b = 0\n",
    "        self.c = 0\n",
    "    \n",
    "    def calculate(self):\n",
    "        self.a = 1\n",
    "        self.b = 2\n",
    "        self.c = 3\n",
    "    \n",
    "    def show(self):\n",
    "        print(f\"a:{self.a}, b:{self.b}, c:{self.c}\")\n",
    "        sum = self.a + self.b +self.c\n",
    "        print(f\"sum: {sum}\")"
   ]
  },
  {
   "cell_type": "code",
   "execution_count": 86,
   "id": "75899b7c",
   "metadata": {},
   "outputs": [],
   "source": [
    "obj = math()"
   ]
  },
  {
   "cell_type": "code",
   "execution_count": 87,
   "id": "4d51359d",
   "metadata": {},
   "outputs": [
    {
     "data": {
      "text/plain": [
       "{'a': 0, 'b': 0, 'c': 0}"
      ]
     },
     "execution_count": 87,
     "metadata": {},
     "output_type": "execute_result"
    }
   ],
   "source": [
    "obj.__dict__"
   ]
  },
  {
   "cell_type": "code",
   "execution_count": 88,
   "id": "22f4e0fa",
   "metadata": {},
   "outputs": [
    {
     "name": "stdout",
     "output_type": "stream",
     "text": [
      "a:0, b:0, c:0\n",
      "sum: 0\n"
     ]
    }
   ],
   "source": [
    "obj.show()"
   ]
  },
  {
   "cell_type": "code",
   "execution_count": 89,
   "id": "e368f4ce",
   "metadata": {},
   "outputs": [],
   "source": [
    "obj.calculate()"
   ]
  },
  {
   "cell_type": "code",
   "execution_count": 90,
   "id": "67c072c0",
   "metadata": {},
   "outputs": [
    {
     "data": {
      "text/plain": [
       "{'a': 1, 'b': 2, 'c': 3}"
      ]
     },
     "execution_count": 90,
     "metadata": {},
     "output_type": "execute_result"
    }
   ],
   "source": [
    "obj.__dict__"
   ]
  },
  {
   "cell_type": "code",
   "execution_count": 91,
   "id": "862f8b2f",
   "metadata": {},
   "outputs": [
    {
     "name": "stdout",
     "output_type": "stream",
     "text": [
      "a:1, b:2, c:3\n",
      "sum: 6\n"
     ]
    }
   ],
   "source": [
    "obj.show()"
   ]
  },
  {
   "cell_type": "code",
   "execution_count": null,
   "id": "e417b320",
   "metadata": {},
   "outputs": [],
   "source": [
    "class Calculate_sum:\n",
    "    \n",
    "    def __init__(self, a, b, c):\n",
    "        self.a = a\n",
    "        self.b = b\n",
    "        self.c = c\n",
    "        \n",
    "    def add(self):\n",
    "        print(f\" a = {self.a}, b= {self.b}, c = {self.c}\")\n",
    "        print(f\" Addition of Numbers is {int(self.a) + int(self.b) + int(self.c)}\")\n",
    "        \n",
    "sum = Calculate_sum(a=4, b=7, c=9)\n",
    "sum.add()\n",
    "    "
   ]
  },
  {
   "cell_type": "code",
   "execution_count": 1,
   "id": "d8ce459e",
   "metadata": {},
   "outputs": [
    {
     "name": "stdout",
     "output_type": "stream",
     "text": [
      "258\n"
     ]
    },
    {
     "data": {
      "text/plain": [
       "'258'"
      ]
     },
     "execution_count": 1,
     "metadata": {},
     "output_type": "execute_result"
    }
   ],
   "source": [
    "input()"
   ]
  },
  {
   "cell_type": "code",
   "execution_count": 39,
   "id": "36733512",
   "metadata": {},
   "outputs": [],
   "source": [
    "class Circle:\n",
    "    pi = 3.14\n",
    "    diameter = 36\n",
    "    \n",
    "    def __init__(self, radius):\n",
    "        self.radius = radius\n",
    "        self.pi = 3.14\n",
    "        \n",
    "    def area(self):\n",
    "        \n",
    "        circle_area = self.pi * self.radius * self.radius\n",
    "        print(f\"Area of Circle with radius {self.radius} is {round(circle_area,4)}\")\n",
    "        \n",
    "    def circumference(self):\n",
    "        circle_circumference = 2 * self.pi * self.radius\n",
    "        print(f\"circumference of circle with radius {self.radius} is {round(circle_circumference,4)}\")"
   ]
  },
  {
   "cell_type": "code",
   "execution_count": 40,
   "id": "1cbe4bc8",
   "metadata": {},
   "outputs": [],
   "source": [
    "obj = Circle(59.3)"
   ]
  },
  {
   "cell_type": "code",
   "execution_count": 41,
   "id": "23de5ca6",
   "metadata": {},
   "outputs": [
    {
     "data": {
      "text/plain": [
       "{'radius': 59.3, 'pi': 3.14}"
      ]
     },
     "execution_count": 41,
     "metadata": {},
     "output_type": "execute_result"
    }
   ],
   "source": [
    "obj.__dict__"
   ]
  },
  {
   "cell_type": "code",
   "execution_count": 42,
   "id": "f3f14e64",
   "metadata": {},
   "outputs": [
    {
     "name": "stdout",
     "output_type": "stream",
     "text": [
      "Area of Circle with radius 59.3 is 11041.7786\n"
     ]
    }
   ],
   "source": [
    "obj.area()"
   ]
  },
  {
   "cell_type": "code",
   "execution_count": 43,
   "id": "4cdd1ed7",
   "metadata": {},
   "outputs": [
    {
     "name": "stdout",
     "output_type": "stream",
     "text": [
      "circumference of circle with radius 59.3 is 372.404\n"
     ]
    }
   ],
   "source": [
    "obj.circumference()"
   ]
  },
  {
   "cell_type": "code",
   "execution_count": 45,
   "id": "f08ea26c",
   "metadata": {},
   "outputs": [
    {
     "data": {
      "text/plain": [
       "{'__module__': '__main__',\n",
       " 'pi': 3.15,\n",
       " '__init__': <function __main__.Circle.__init__(self, radius)>,\n",
       " 'area': <function __main__.Circle.area(self)>,\n",
       " 'circumference': <function __main__.Circle.circumference(self)>,\n",
       " '__dict__': <attribute '__dict__' of 'Circle' objects>,\n",
       " '__weakref__': <attribute '__weakref__' of 'Circle' objects>,\n",
       " '__doc__': None}"
      ]
     },
     "execution_count": 45,
     "metadata": {},
     "output_type": "execute_result"
    }
   ],
   "source": [
    "dict(class_var)"
   ]
  },
  {
   "cell_type": "code",
   "execution_count": 46,
   "id": "0a521918",
   "metadata": {},
   "outputs": [],
   "source": [
    "class_var = Circle.__dict__"
   ]
  },
  {
   "cell_type": "code",
   "execution_count": 47,
   "id": "14930770",
   "metadata": {},
   "outputs": [
    {
     "name": "stdout",
     "output_type": "stream",
     "text": [
      "__module__ __main__\n",
      "pi 3.14\n",
      "diameter 36\n",
      "__init__ <function Circle.__init__ at 0x000001F8CA0A6C10>\n",
      "area <function Circle.area at 0x000001F8CA0A6E50>\n",
      "circumference <function Circle.circumference at 0x000001F8CA0A6EE0>\n",
      "__dict__ <attribute '__dict__' of 'Circle' objects>\n",
      "__weakref__ <attribute '__weakref__' of 'Circle' objects>\n",
      "__doc__ None\n"
     ]
    }
   ],
   "source": [
    "for var, value in class_var.items():\n",
    "    print(var, value)"
   ]
  },
  {
   "cell_type": "code",
   "execution_count": 48,
   "id": "162c524d",
   "metadata": {},
   "outputs": [
    {
     "data": {
      "text/plain": [
       "{'__module__': '__main__',\n",
       " 'pi': 3.14,\n",
       " 'diameter': 36,\n",
       " '__init__': <function __main__.Circle.__init__(self, radius)>,\n",
       " 'area': <function __main__.Circle.area(self)>,\n",
       " 'circumference': <function __main__.Circle.circumference(self)>,\n",
       " '__dict__': <attribute '__dict__' of 'Circle' objects>,\n",
       " '__weakref__': <attribute '__weakref__' of 'Circle' objects>,\n",
       " '__doc__': None}"
      ]
     },
     "execution_count": 48,
     "metadata": {},
     "output_type": "execute_result"
    }
   ],
   "source": [
    "dict(class_var)"
   ]
  },
  {
   "cell_type": "code",
   "execution_count": null,
   "id": "c4542fa7",
   "metadata": {},
   "outputs": [],
   "source": [
    "Write a class called BankAccount that has the following:\n",
    "* A field called name that stores the name of the account holder.\n",
    "* A field called amount that stores the amount of money in the account.\n",
    "* A field called interest_rate that stores the account's interest rate (as a percentage).\n",
    "* A Constructor that just sets the values of the three fields above.\n",
    "* A method called apply_interest() that takes no arguments and applies the interest to the account. It should just\n",
    "  modify amount field and not return anything.For instance, if the account has $1000 in it and the interest rate is3% then\n",
    "  the amount variable should be changed to $1030 ($1000 + 3% interest).Then test the class, by creating a new BankAccount\n",
    "  object for a user named Juan De Hattatime who has $1000 at 3% interest.Then do the following:\n",
    "* Use the apply_interest()method to apply the interest to the account.\n",
    "* Print out how much money is now in the account after applying the interest.\n",
    "* Change the Accounts interest rate to 2%.\n",
    "* Use the apply_interest() method to apply the interest to the account again.\n",
    "* Print out how much money is now in the account after applying the interest again.\n",
    "    "
   ]
  },
  {
   "cell_type": "code",
   "execution_count": 1,
   "id": "0424cee1",
   "metadata": {},
   "outputs": [],
   "source": [
    "class BankAccount:\n",
    "    def __init__(self, name, amount, interest_rate):\n",
    "        self.name = name\n",
    "        self.amount = amount\n",
    "        self.interest_rate = interest_rate\n",
    "        \n",
    "    def apply_interest(self):\n",
    "        self.amount = self.amount + self.amount * self.interest_rate / 100\n",
    "        \n",
    "    def balance(self):\n",
    "        print(f\"The account balance for {self.name} is ${self.amount}\")\n",
    "        \n",
    "    def account_details(self):\n",
    "        print(f\"name: {self.name} \\n balance: ${self.amount} \\n interest rate: {self.interest_rate}\")\n",
    "        "
   ]
  },
  {
   "cell_type": "code",
   "execution_count": 2,
   "id": "a9891055",
   "metadata": {},
   "outputs": [],
   "source": [
    "obj = BankAccount(name='ABC', amount=1000, interest_rate=3)"
   ]
  },
  {
   "cell_type": "code",
   "execution_count": 3,
   "id": "0b1c43b4",
   "metadata": {},
   "outputs": [
    {
     "data": {
      "text/plain": [
       "{'name': 'ABC', 'amount': 1000, 'interest_rate': 3}"
      ]
     },
     "execution_count": 3,
     "metadata": {},
     "output_type": "execute_result"
    }
   ],
   "source": [
    "obj.__dict__"
   ]
  },
  {
   "cell_type": "code",
   "execution_count": 4,
   "id": "4f4718c9",
   "metadata": {},
   "outputs": [],
   "source": [
    "obj.apply_interest()"
   ]
  },
  {
   "cell_type": "code",
   "execution_count": 5,
   "id": "210b6841",
   "metadata": {},
   "outputs": [
    {
     "name": "stdout",
     "output_type": "stream",
     "text": [
      "The account balance for ABC is $1030.0\n"
     ]
    }
   ],
   "source": [
    "obj.balance()"
   ]
  },
  {
   "cell_type": "code",
   "execution_count": null,
   "id": "b36d466f",
   "metadata": {},
   "outputs": [],
   "source": []
  }
 ],
 "metadata": {
  "kernelspec": {
   "display_name": "Python 3 (ipykernel)",
   "language": "python",
   "name": "python3"
  },
  "language_info": {
   "codemirror_mode": {
    "name": "ipython",
    "version": 3
   },
   "file_extension": ".py",
   "mimetype": "text/x-python",
   "name": "python",
   "nbconvert_exporter": "python",
   "pygments_lexer": "ipython3",
   "version": "3.9.13"
  }
 },
 "nbformat": 4,
 "nbformat_minor": 5
}
