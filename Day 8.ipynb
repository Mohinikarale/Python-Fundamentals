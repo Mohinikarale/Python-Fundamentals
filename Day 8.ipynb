{
 "cells": [
  {
   "cell_type": "code",
   "execution_count": 1,
   "id": "a6f45435",
   "metadata": {},
   "outputs": [],
   "source": [
    "import mysql.connector as conn\n",
    "import pandas as pd\n",
    "import warnings\n",
    "warnings.filterwarnings('ignore')"
   ]
  },
  {
   "cell_type": "code",
   "execution_count": 2,
   "id": "110d9fb1",
   "metadata": {},
   "outputs": [],
   "source": [
    "myconn = conn.connect(host='localhost',user = 'root',passwd = '2402')"
   ]
  },
  {
   "cell_type": "code",
   "execution_count": 3,
   "id": "4b5f1d44",
   "metadata": {},
   "outputs": [],
   "source": [
    "cursor = myconn.cursor()"
   ]
  },
  {
   "cell_type": "code",
   "execution_count": 4,
   "id": "a90d9b47",
   "metadata": {},
   "outputs": [],
   "source": [
    "cursor.execute('USE sakila')"
   ]
  },
  {
   "cell_type": "markdown",
   "id": "f2e28743",
   "metadata": {},
   "source": [
    "## Null Statement"
   ]
  },
  {
   "cell_type": "code",
   "execution_count": 8,
   "id": "dd926b62",
   "metadata": {},
   "outputs": [
    {
     "name": "stdout",
     "output_type": "stream",
     "text": [
      "shape: (0, 9)\n"
     ]
    },
    {
     "data": {
      "text/html": [
       "<div>\n",
       "<style scoped>\n",
       "    .dataframe tbody tr th:only-of-type {\n",
       "        vertical-align: middle;\n",
       "    }\n",
       "\n",
       "    .dataframe tbody tr th {\n",
       "        vertical-align: top;\n",
       "    }\n",
       "\n",
       "    .dataframe thead th {\n",
       "        text-align: right;\n",
       "    }\n",
       "</style>\n",
       "<table border=\"1\" class=\"dataframe\">\n",
       "  <thead>\n",
       "    <tr style=\"text-align: right;\">\n",
       "      <th></th>\n",
       "      <th>customer_id</th>\n",
       "      <th>store_id</th>\n",
       "      <th>first_name</th>\n",
       "      <th>last_name</th>\n",
       "      <th>email</th>\n",
       "      <th>address_id</th>\n",
       "      <th>active</th>\n",
       "      <th>create_date</th>\n",
       "      <th>last_update</th>\n",
       "    </tr>\n",
       "  </thead>\n",
       "  <tbody>\n",
       "  </tbody>\n",
       "</table>\n",
       "</div>"
      ],
      "text/plain": [
       "Empty DataFrame\n",
       "Columns: [customer_id, store_id, first_name, last_name, email, address_id, active, create_date, last_update]\n",
       "Index: []"
      ]
     },
     "execution_count": 8,
     "metadata": {},
     "output_type": "execute_result"
    }
   ],
   "source": [
    "query = \"\"\"\n",
    "SELECT *\n",
    "FROM customer\n",
    "WHERE first_name IS NULL\n",
    "\"\"\"\n",
    "\n",
    "data = pd.read_sql(query, myconn)\n",
    "\n",
    "print(f'shape: {data.shape}')\n",
    "data.head(2)"
   ]
  },
  {
   "cell_type": "code",
   "execution_count": 9,
   "id": "7dd99302",
   "metadata": {},
   "outputs": [],
   "source": [
    "data.to_csv('customer.csv', index=False)"
   ]
  },
  {
   "cell_type": "code",
   "execution_count": null,
   "id": "839e69f4",
   "metadata": {},
   "outputs": [],
   "source": []
  },
  {
   "cell_type": "markdown",
   "id": "8fd9914a",
   "metadata": {},
   "source": [
    "## Not Null Statement"
   ]
  },
  {
   "cell_type": "code",
   "execution_count": 10,
   "id": "71f8cf99",
   "metadata": {},
   "outputs": [
    {
     "name": "stdout",
     "output_type": "stream",
     "text": [
      "shape: (599, 9)\n"
     ]
    },
    {
     "data": {
      "text/html": [
       "<div>\n",
       "<style scoped>\n",
       "    .dataframe tbody tr th:only-of-type {\n",
       "        vertical-align: middle;\n",
       "    }\n",
       "\n",
       "    .dataframe tbody tr th {\n",
       "        vertical-align: top;\n",
       "    }\n",
       "\n",
       "    .dataframe thead th {\n",
       "        text-align: right;\n",
       "    }\n",
       "</style>\n",
       "<table border=\"1\" class=\"dataframe\">\n",
       "  <thead>\n",
       "    <tr style=\"text-align: right;\">\n",
       "      <th></th>\n",
       "      <th>customer_id</th>\n",
       "      <th>store_id</th>\n",
       "      <th>first_name</th>\n",
       "      <th>last_name</th>\n",
       "      <th>email</th>\n",
       "      <th>address_id</th>\n",
       "      <th>active</th>\n",
       "      <th>create_date</th>\n",
       "      <th>last_update</th>\n",
       "    </tr>\n",
       "  </thead>\n",
       "  <tbody>\n",
       "    <tr>\n",
       "      <th>0</th>\n",
       "      <td>1</td>\n",
       "      <td>1</td>\n",
       "      <td>VIJAY</td>\n",
       "      <td>DALVI</td>\n",
       "      <td>MARY.SMITH@sakilacustomer.org</td>\n",
       "      <td>5</td>\n",
       "      <td>1</td>\n",
       "      <td>2006-02-14 22:04:36</td>\n",
       "      <td>2023-12-18 12:34:48</td>\n",
       "    </tr>\n",
       "    <tr>\n",
       "      <th>1</th>\n",
       "      <td>2</td>\n",
       "      <td>1</td>\n",
       "      <td>PATRICIA</td>\n",
       "      <td>JOHNSON</td>\n",
       "      <td>PATRICIA.JOHNSON@sakilacustomer.org</td>\n",
       "      <td>6</td>\n",
       "      <td>1</td>\n",
       "      <td>2006-02-14 22:04:36</td>\n",
       "      <td>2006-02-15 04:57:20</td>\n",
       "    </tr>\n",
       "  </tbody>\n",
       "</table>\n",
       "</div>"
      ],
      "text/plain": [
       "   customer_id  store_id first_name last_name  \\\n",
       "0            1         1      VIJAY     DALVI   \n",
       "1            2         1   PATRICIA   JOHNSON   \n",
       "\n",
       "                                 email  address_id  active  \\\n",
       "0        MARY.SMITH@sakilacustomer.org           5       1   \n",
       "1  PATRICIA.JOHNSON@sakilacustomer.org           6       1   \n",
       "\n",
       "          create_date         last_update  \n",
       "0 2006-02-14 22:04:36 2023-12-18 12:34:48  \n",
       "1 2006-02-14 22:04:36 2006-02-15 04:57:20  "
      ]
     },
     "execution_count": 10,
     "metadata": {},
     "output_type": "execute_result"
    }
   ],
   "source": [
    "query = \"\"\"\n",
    "SELECT *\n",
    "FROM customer\n",
    "WHERE first_name IS NOT NULL\n",
    "\"\"\"\n",
    "\n",
    "data = pd.read_sql(query, myconn)\n",
    "\n",
    "print(f\"shape: {data.shape}\")\n",
    "data.head(2)"
   ]
  },
  {
   "cell_type": "markdown",
   "id": "2320968e",
   "metadata": {},
   "source": [
    "## UPDATE Values"
   ]
  },
  {
   "cell_type": "code",
   "execution_count": 11,
   "id": "0335eb0b",
   "metadata": {},
   "outputs": [],
   "source": [
    "query = \"\"\"\n",
    "UPDATE customer\n",
    "SET first_name='VIJAY', last_name='DALVI'\n",
    "WHERE customer_id=1\n",
    "\"\"\"\n",
    "\n",
    "cursor.execute(query)"
   ]
  },
  {
   "cell_type": "code",
   "execution_count": 12,
   "id": "46c495fb",
   "metadata": {},
   "outputs": [
    {
     "data": {
      "text/html": [
       "<div>\n",
       "<style scoped>\n",
       "    .dataframe tbody tr th:only-of-type {\n",
       "        vertical-align: middle;\n",
       "    }\n",
       "\n",
       "    .dataframe tbody tr th {\n",
       "        vertical-align: top;\n",
       "    }\n",
       "\n",
       "    .dataframe thead th {\n",
       "        text-align: right;\n",
       "    }\n",
       "</style>\n",
       "<table border=\"1\" class=\"dataframe\">\n",
       "  <thead>\n",
       "    <tr style=\"text-align: right;\">\n",
       "      <th></th>\n",
       "      <th>customer_id</th>\n",
       "      <th>store_id</th>\n",
       "      <th>first_name</th>\n",
       "      <th>last_name</th>\n",
       "      <th>email</th>\n",
       "      <th>address_id</th>\n",
       "      <th>active</th>\n",
       "      <th>create_date</th>\n",
       "      <th>last_update</th>\n",
       "    </tr>\n",
       "  </thead>\n",
       "  <tbody>\n",
       "    <tr>\n",
       "      <th>0</th>\n",
       "      <td>1</td>\n",
       "      <td>1</td>\n",
       "      <td>VIJAY</td>\n",
       "      <td>DALVI</td>\n",
       "      <td>MARY.SMITH@sakilacustomer.org</td>\n",
       "      <td>5</td>\n",
       "      <td>1</td>\n",
       "      <td>2006-02-14 22:04:36</td>\n",
       "      <td>2023-12-18 12:34:48</td>\n",
       "    </tr>\n",
       "  </tbody>\n",
       "</table>\n",
       "</div>"
      ],
      "text/plain": [
       "   customer_id  store_id first_name last_name                          email  \\\n",
       "0            1         1      VIJAY     DALVI  MARY.SMITH@sakilacustomer.org   \n",
       "\n",
       "   address_id  active         create_date         last_update  \n",
       "0           5       1 2006-02-14 22:04:36 2023-12-18 12:34:48  "
      ]
     },
     "execution_count": 12,
     "metadata": {},
     "output_type": "execute_result"
    }
   ],
   "source": [
    "query = \"\"\"\n",
    "SELECT *\n",
    "FROM customer\n",
    "WHERE customer_id=1\n",
    "\"\"\"\n",
    "\n",
    "data = pd.read_sql(query, myconn)\n",
    "data.head()"
   ]
  },
  {
   "cell_type": "code",
   "execution_count": null,
   "id": "2d9a7567",
   "metadata": {},
   "outputs": [],
   "source": []
  },
  {
   "cell_type": "markdown",
   "id": "1dec8266",
   "metadata": {},
   "source": [
    "## CREATE TABLE"
   ]
  },
  {
   "cell_type": "code",
   "execution_count": null,
   "id": "85be49d0",
   "metadata": {},
   "outputs": [],
   "source": [
    "query = \"\"\"\n",
    "CREATE TABLE city(ity_id INT,\n",
    "    City INT,\n",
    "    country_id VARCHAR(50),\n",
    "    last_update DECIMAL(5, 2)\n",
    "    \n",
    ")\n",
    "\"\"\"\n",
    "cursor.execute(query)"
   ]
  },
  {
   "cell_type": "code",
   "execution_count": null,
   "id": "f572b8dc",
   "metadata": {},
   "outputs": [],
   "source": [
    "cursor.execute('drop table city')\n",
    "# cursor.fetchall()"
   ]
  },
  {
   "cell_type": "code",
   "execution_count": 35,
   "id": "e811813c",
   "metadata": {},
   "outputs": [
    {
     "data": {
      "text/plain": [
       "[('actor',),\n",
       " ('actor_info',),\n",
       " ('address',),\n",
       " ('category',),\n",
       " ('city',),\n",
       " ('country',),\n",
       " ('customer',),\n",
       " ('customer_list',),\n",
       " ('film',),\n",
       " ('film_actor',),\n",
       " ('film_category',),\n",
       " ('film_list',),\n",
       " ('film_text',),\n",
       " ('inventory',),\n",
       " ('language',),\n",
       " ('nicer_but_slower_film_list',),\n",
       " ('payment',),\n",
       " ('rental',),\n",
       " ('sales_by_film_category',),\n",
       " ('sales_by_store',),\n",
       " ('staff',),\n",
       " ('staff_list',),\n",
       " ('store',)]"
      ]
     },
     "execution_count": 35,
     "metadata": {},
     "output_type": "execute_result"
    }
   ],
   "source": [
    "cursor.execute('show tables')\n",
    "cursor.fetchall()"
   ]
  },
  {
   "cell_type": "code",
   "execution_count": 22,
   "id": "c0678087",
   "metadata": {},
   "outputs": [
    {
     "name": "stdout",
     "output_type": "stream",
     "text": [
      "600\n"
     ]
    }
   ],
   "source": [
    "query = \"\"\"\n",
    "SELECT *\n",
    "FROM city\n",
    "\"\"\"\n",
    "\n",
    "data = pd.read_sql_query(query, myconn)\n",
    "\n",
    "print(len(data))"
   ]
  },
  {
   "cell_type": "markdown",
   "id": "9cf46995",
   "metadata": {},
   "source": [
    "## Insert Records"
   ]
  },
  {
   "cell_type": "code",
   "execution_count": null,
   "id": "d286e5e4",
   "metadata": {},
   "outputs": [],
   "source": [
    "query = \"\"\"\n",
    "INSERT INTO student_datawave(attendance_number, first_name, last_name, percentage, std, division)\n",
    "VALUES(1, 'PRAVIN', 'DOLE', 98.5, 12, 'A')\n",
    "\"\"\"\n",
    "\n",
    "cursor.execute(query)"
   ]
  },
  {
   "cell_type": "code",
   "execution_count": 24,
   "id": "2826450c",
   "metadata": {},
   "outputs": [],
   "source": [
    "query = \"\"\"\n",
    "CREATE TABLE student_datawave(attendance_number INT,\n",
    "    first_name VARCHAR(50),\n",
    "    last_name VARCHAR(50),\n",
    "    percentage DECIMAL(5, 2),\n",
    "    std INT,\n",
    "    division VARCHAR(20)\n",
    ")\n",
    "\"\"\"\n",
    "cursor.execute(query)"
   ]
  },
  {
   "cell_type": "code",
   "execution_count": null,
   "id": "a5c17e45",
   "metadata": {},
   "outputs": [],
   "source": [
    "cursor.execute('drop table city')\n",
    "# cursor.fetchall()"
   ]
  },
  {
   "cell_type": "code",
   "execution_count": 38,
   "id": "8b512963",
   "metadata": {},
   "outputs": [
    {
     "data": {
      "text/plain": [
       "[('actor',),\n",
       " ('actor_info',),\n",
       " ('address',),\n",
       " ('category',),\n",
       " ('city',),\n",
       " ('country',),\n",
       " ('customer',),\n",
       " ('customer_list',),\n",
       " ('film',),\n",
       " ('film_actor',),\n",
       " ('film_category',),\n",
       " ('film_list',),\n",
       " ('film_text',),\n",
       " ('inventory',),\n",
       " ('language',),\n",
       " ('nicer_but_slower_film_list',),\n",
       " ('payment',),\n",
       " ('rental',),\n",
       " ('sales_by_film_category',),\n",
       " ('sales_by_store',),\n",
       " ('staff',),\n",
       " ('staff_list',),\n",
       " ('store',)]"
      ]
     },
     "execution_count": 38,
     "metadata": {},
     "output_type": "execute_result"
    }
   ],
   "source": [
    "cursor.execute('show tables')\n",
    "cursor.fetchall()"
   ]
  },
  {
   "cell_type": "markdown",
   "id": "9a1d23d9",
   "metadata": {},
   "source": [
    "## Drop Table"
   ]
  },
  {
   "cell_type": "code",
   "execution_count": null,
   "id": "61682943",
   "metadata": {},
   "outputs": [],
   "source": [
    "query = \"\"\"\n",
    "DROP TABLE IF EXISTS staff\n",
    "\"\"\"\n",
    "\n",
    "cursor.execute(query)"
   ]
  },
  {
   "cell_type": "code",
   "execution_count": 39,
   "id": "e162af53",
   "metadata": {},
   "outputs": [
    {
     "data": {
      "text/plain": [
       "[('actor',),\n",
       " ('actor_info',),\n",
       " ('address',),\n",
       " ('category',),\n",
       " ('city',),\n",
       " ('country',),\n",
       " ('customer',),\n",
       " ('customer_list',),\n",
       " ('film',),\n",
       " ('film_actor',),\n",
       " ('film_category',),\n",
       " ('film_list',),\n",
       " ('film_text',),\n",
       " ('inventory',),\n",
       " ('language',),\n",
       " ('nicer_but_slower_film_list',),\n",
       " ('payment',),\n",
       " ('rental',),\n",
       " ('sales_by_film_category',),\n",
       " ('sales_by_store',),\n",
       " ('staff',),\n",
       " ('staff_list',),\n",
       " ('store',)]"
      ]
     },
     "execution_count": 39,
     "metadata": {},
     "output_type": "execute_result"
    }
   ],
   "source": [
    "cursor.execute('show tables')\n",
    "cursor.fetchall()"
   ]
  },
  {
   "cell_type": "markdown",
   "id": "d285fdf2",
   "metadata": {},
   "source": [
    "## LIMIT"
   ]
  },
  {
   "cell_type": "code",
   "execution_count": 41,
   "id": "d3d10ec9",
   "metadata": {},
   "outputs": [
    {
     "name": "stdout",
     "output_type": "stream",
     "text": [
      "shape: (1, 4)\n"
     ]
    },
    {
     "data": {
      "text/html": [
       "<div>\n",
       "<style scoped>\n",
       "    .dataframe tbody tr th:only-of-type {\n",
       "        vertical-align: middle;\n",
       "    }\n",
       "\n",
       "    .dataframe tbody tr th {\n",
       "        vertical-align: top;\n",
       "    }\n",
       "\n",
       "    .dataframe thead th {\n",
       "        text-align: right;\n",
       "    }\n",
       "</style>\n",
       "<table border=\"1\" class=\"dataframe\">\n",
       "  <thead>\n",
       "    <tr style=\"text-align: right;\">\n",
       "      <th></th>\n",
       "      <th>city_id</th>\n",
       "      <th>city</th>\n",
       "      <th>country_id</th>\n",
       "      <th>last_update</th>\n",
       "    </tr>\n",
       "  </thead>\n",
       "  <tbody>\n",
       "    <tr>\n",
       "      <th>0</th>\n",
       "      <td>1</td>\n",
       "      <td>A Coruña (La Coruña)</td>\n",
       "      <td>87</td>\n",
       "      <td>2006-02-15 04:45:25</td>\n",
       "    </tr>\n",
       "  </tbody>\n",
       "</table>\n",
       "</div>"
      ],
      "text/plain": [
       "   city_id                  city  country_id         last_update\n",
       "0        1  A Coruña (La Coruña)          87 2006-02-15 04:45:25"
      ]
     },
     "execution_count": 41,
     "metadata": {},
     "output_type": "execute_result"
    }
   ],
   "source": [
    "cursor.execute('USE sakila')\n",
    "\n",
    "query = \"\"\"\n",
    "SELECT *\n",
    "FROM city\n",
    "LIMIT 1\n",
    "\"\"\"\n",
    "\n",
    "data = pd.read_sql_query(query, myconn)\n",
    "\n",
    "print(f\"shape: {data.shape}\")\n",
    "\n",
    "data"
   ]
  },
  {
   "cell_type": "code",
   "execution_count": null,
   "id": "5269a106",
   "metadata": {},
   "outputs": [],
   "source": []
  },
  {
   "cell_type": "code",
   "execution_count": 43,
   "id": "475423a6",
   "metadata": {},
   "outputs": [
    {
     "data": {
      "text/html": [
       "<div>\n",
       "<style scoped>\n",
       "    .dataframe tbody tr th:only-of-type {\n",
       "        vertical-align: middle;\n",
       "    }\n",
       "\n",
       "    .dataframe tbody tr th {\n",
       "        vertical-align: top;\n",
       "    }\n",
       "\n",
       "    .dataframe thead th {\n",
       "        text-align: right;\n",
       "    }\n",
       "</style>\n",
       "<table border=\"1\" class=\"dataframe\">\n",
       "  <thead>\n",
       "    <tr style=\"text-align: right;\">\n",
       "      <th></th>\n",
       "      <th>MAX(Population)</th>\n",
       "    </tr>\n",
       "  </thead>\n",
       "  <tbody>\n",
       "    <tr>\n",
       "      <th>0</th>\n",
       "      <td>10500000</td>\n",
       "    </tr>\n",
       "  </tbody>\n",
       "</table>\n",
       "</div>"
      ],
      "text/plain": [
       "   MAX(Population)\n",
       "0         10500000"
      ]
     },
     "execution_count": 43,
     "metadata": {},
     "output_type": "execute_result"
    }
   ],
   "source": [
    "cursor.execute('USE world')\n",
    "\n",
    "query = \"\"\"\n",
    "SELECT MAX(Population)\n",
    "FROM city\n",
    "\"\"\"\n",
    "\n",
    "data = pd.read_sql_query(query, myconn)\n",
    "data"
   ]
  },
  {
   "cell_type": "markdown",
   "id": "9e0a8b2b",
   "metadata": {},
   "source": [
    "## Aggregation\n",
    "\n",
    "min\n",
    "\n",
    "max \n",
    "\n",
    "avg\n",
    "\n",
    "count\n",
    "\n",
    "sum"
   ]
  },
  {
   "cell_type": "code",
   "execution_count": 44,
   "id": "40fe416a",
   "metadata": {},
   "outputs": [
    {
     "name": "stdout",
     "output_type": "stream",
     "text": [
      "shape: (600, 4)\n"
     ]
    },
    {
     "data": {
      "text/html": [
       "<div>\n",
       "<style scoped>\n",
       "    .dataframe tbody tr th:only-of-type {\n",
       "        vertical-align: middle;\n",
       "    }\n",
       "\n",
       "    .dataframe tbody tr th {\n",
       "        vertical-align: top;\n",
       "    }\n",
       "\n",
       "    .dataframe thead th {\n",
       "        text-align: right;\n",
       "    }\n",
       "</style>\n",
       "<table border=\"1\" class=\"dataframe\">\n",
       "  <thead>\n",
       "    <tr style=\"text-align: right;\">\n",
       "      <th></th>\n",
       "      <th>city_id</th>\n",
       "      <th>city</th>\n",
       "      <th>country_id</th>\n",
       "      <th>last_update</th>\n",
       "    </tr>\n",
       "  </thead>\n",
       "  <tbody>\n",
       "    <tr>\n",
       "      <th>0</th>\n",
       "      <td>1</td>\n",
       "      <td>A Coruña (La Coruña)</td>\n",
       "      <td>87</td>\n",
       "      <td>2006-02-15 04:45:25</td>\n",
       "    </tr>\n",
       "    <tr>\n",
       "      <th>1</th>\n",
       "      <td>2</td>\n",
       "      <td>Abha</td>\n",
       "      <td>82</td>\n",
       "      <td>2006-02-15 04:45:25</td>\n",
       "    </tr>\n",
       "    <tr>\n",
       "      <th>2</th>\n",
       "      <td>3</td>\n",
       "      <td>Abu Dhabi</td>\n",
       "      <td>101</td>\n",
       "      <td>2006-02-15 04:45:25</td>\n",
       "    </tr>\n",
       "    <tr>\n",
       "      <th>3</th>\n",
       "      <td>4</td>\n",
       "      <td>Acuña</td>\n",
       "      <td>60</td>\n",
       "      <td>2006-02-15 04:45:25</td>\n",
       "    </tr>\n",
       "    <tr>\n",
       "      <th>4</th>\n",
       "      <td>5</td>\n",
       "      <td>Adana</td>\n",
       "      <td>97</td>\n",
       "      <td>2006-02-15 04:45:25</td>\n",
       "    </tr>\n",
       "    <tr>\n",
       "      <th>...</th>\n",
       "      <td>...</td>\n",
       "      <td>...</td>\n",
       "      <td>...</td>\n",
       "      <td>...</td>\n",
       "    </tr>\n",
       "    <tr>\n",
       "      <th>595</th>\n",
       "      <td>596</td>\n",
       "      <td>Zaria</td>\n",
       "      <td>69</td>\n",
       "      <td>2006-02-15 04:45:25</td>\n",
       "    </tr>\n",
       "    <tr>\n",
       "      <th>596</th>\n",
       "      <td>597</td>\n",
       "      <td>Zeleznogorsk</td>\n",
       "      <td>80</td>\n",
       "      <td>2006-02-15 04:45:25</td>\n",
       "    </tr>\n",
       "    <tr>\n",
       "      <th>597</th>\n",
       "      <td>598</td>\n",
       "      <td>Zhezqazghan</td>\n",
       "      <td>51</td>\n",
       "      <td>2006-02-15 04:45:25</td>\n",
       "    </tr>\n",
       "    <tr>\n",
       "      <th>598</th>\n",
       "      <td>599</td>\n",
       "      <td>Zhoushan</td>\n",
       "      <td>23</td>\n",
       "      <td>2006-02-15 04:45:25</td>\n",
       "    </tr>\n",
       "    <tr>\n",
       "      <th>599</th>\n",
       "      <td>600</td>\n",
       "      <td>Ziguinchor</td>\n",
       "      <td>83</td>\n",
       "      <td>2006-02-15 04:45:25</td>\n",
       "    </tr>\n",
       "  </tbody>\n",
       "</table>\n",
       "<p>600 rows × 4 columns</p>\n",
       "</div>"
      ],
      "text/plain": [
       "     city_id                  city  country_id         last_update\n",
       "0          1  A Coruña (La Coruña)          87 2006-02-15 04:45:25\n",
       "1          2                  Abha          82 2006-02-15 04:45:25\n",
       "2          3             Abu Dhabi         101 2006-02-15 04:45:25\n",
       "3          4                 Acuña          60 2006-02-15 04:45:25\n",
       "4          5                 Adana          97 2006-02-15 04:45:25\n",
       "..       ...                   ...         ...                 ...\n",
       "595      596                 Zaria          69 2006-02-15 04:45:25\n",
       "596      597          Zeleznogorsk          80 2006-02-15 04:45:25\n",
       "597      598           Zhezqazghan          51 2006-02-15 04:45:25\n",
       "598      599              Zhoushan          23 2006-02-15 04:45:25\n",
       "599      600            Ziguinchor          83 2006-02-15 04:45:25\n",
       "\n",
       "[600 rows x 4 columns]"
      ]
     },
     "execution_count": 44,
     "metadata": {},
     "output_type": "execute_result"
    }
   ],
   "source": [
    "cursor.execute('USE sakila')\n",
    "\n",
    "query = \"\"\"\n",
    "SELECT *\n",
    "FROM city\n",
    "\"\"\"\n",
    "\n",
    "data = pd.read_sql_query(query, myconn)\n",
    "\n",
    "print(f\"shape: {data.shape}\")\n",
    "\n",
    "data"
   ]
  },
  {
   "cell_type": "markdown",
   "id": "dab6c8d0",
   "metadata": {},
   "source": [
    "## MAX"
   ]
  },
  {
   "cell_type": "code",
   "execution_count": 5,
   "id": "b7babd51",
   "metadata": {},
   "outputs": [
    {
     "data": {
      "text/html": [
       "<div>\n",
       "<style scoped>\n",
       "    .dataframe tbody tr th:only-of-type {\n",
       "        vertical-align: middle;\n",
       "    }\n",
       "\n",
       "    .dataframe tbody tr th {\n",
       "        vertical-align: top;\n",
       "    }\n",
       "\n",
       "    .dataframe thead th {\n",
       "        text-align: right;\n",
       "    }\n",
       "</style>\n",
       "<table border=\"1\" class=\"dataframe\">\n",
       "  <thead>\n",
       "    <tr style=\"text-align: right;\">\n",
       "      <th></th>\n",
       "      <th>MAX(Population)</th>\n",
       "    </tr>\n",
       "  </thead>\n",
       "  <tbody>\n",
       "    <tr>\n",
       "      <th>0</th>\n",
       "      <td>10500000</td>\n",
       "    </tr>\n",
       "  </tbody>\n",
       "</table>\n",
       "</div>"
      ],
      "text/plain": [
       "   MAX(Population)\n",
       "0         10500000"
      ]
     },
     "execution_count": 5,
     "metadata": {},
     "output_type": "execute_result"
    }
   ],
   "source": [
    "cursor.execute('USE world')\n",
    "\n",
    "query = \"\"\"\n",
    "SELECT MAX(Population)\n",
    "FROM city\n",
    "\"\"\"\n",
    "\n",
    "data = pd.read_sql_query(query, myconn)\n",
    "data"
   ]
  },
  {
   "cell_type": "markdown",
   "id": "90001291",
   "metadata": {},
   "source": [
    "## MIN"
   ]
  },
  {
   "cell_type": "code",
   "execution_count": 7,
   "id": "a3113768",
   "metadata": {},
   "outputs": [
    {
     "data": {
      "text/html": [
       "<div>\n",
       "<style scoped>\n",
       "    .dataframe tbody tr th:only-of-type {\n",
       "        vertical-align: middle;\n",
       "    }\n",
       "\n",
       "    .dataframe tbody tr th {\n",
       "        vertical-align: top;\n",
       "    }\n",
       "\n",
       "    .dataframe thead th {\n",
       "        text-align: right;\n",
       "    }\n",
       "</style>\n",
       "<table border=\"1\" class=\"dataframe\">\n",
       "  <thead>\n",
       "    <tr style=\"text-align: right;\">\n",
       "      <th></th>\n",
       "      <th>MIN(Population)</th>\n",
       "    </tr>\n",
       "  </thead>\n",
       "  <tbody>\n",
       "    <tr>\n",
       "      <th>0</th>\n",
       "      <td>42</td>\n",
       "    </tr>\n",
       "  </tbody>\n",
       "</table>\n",
       "</div>"
      ],
      "text/plain": [
       "   MIN(Population)\n",
       "0               42"
      ]
     },
     "execution_count": 7,
     "metadata": {},
     "output_type": "execute_result"
    }
   ],
   "source": [
    "cursor.execute('USE world')\n",
    "\n",
    "query = \"\"\"\n",
    "SELECT MIN(Population)\n",
    "FROM city\n",
    "\"\"\"\n",
    "\n",
    "data = pd.read_sql_query(query, myconn)\n",
    "data"
   ]
  },
  {
   "cell_type": "markdown",
   "id": "4793f529",
   "metadata": {},
   "source": [
    "## COUNT"
   ]
  },
  {
   "cell_type": "code",
   "execution_count": 8,
   "id": "ebbfa25f",
   "metadata": {},
   "outputs": [
    {
     "data": {
      "text/html": [
       "<div>\n",
       "<style scoped>\n",
       "    .dataframe tbody tr th:only-of-type {\n",
       "        vertical-align: middle;\n",
       "    }\n",
       "\n",
       "    .dataframe tbody tr th {\n",
       "        vertical-align: top;\n",
       "    }\n",
       "\n",
       "    .dataframe thead th {\n",
       "        text-align: right;\n",
       "    }\n",
       "</style>\n",
       "<table border=\"1\" class=\"dataframe\">\n",
       "  <thead>\n",
       "    <tr style=\"text-align: right;\">\n",
       "      <th></th>\n",
       "      <th>count(*)</th>\n",
       "    </tr>\n",
       "  </thead>\n",
       "  <tbody>\n",
       "    <tr>\n",
       "      <th>0</th>\n",
       "      <td>4079</td>\n",
       "    </tr>\n",
       "  </tbody>\n",
       "</table>\n",
       "</div>"
      ],
      "text/plain": [
       "   count(*)\n",
       "0      4079"
      ]
     },
     "execution_count": 8,
     "metadata": {},
     "output_type": "execute_result"
    }
   ],
   "source": [
    "cursor.execute('USE world')\n",
    "\n",
    "query = \"\"\"\n",
    "SELECT count(*)\n",
    "FROM city\n",
    "\"\"\"\n",
    "\n",
    "data = pd.read_sql_query(query, myconn)\n",
    "data"
   ]
  },
  {
   "cell_type": "code",
   "execution_count": 9,
   "id": "b3c6ba08",
   "metadata": {},
   "outputs": [
    {
     "data": {
      "text/html": [
       "<div>\n",
       "<style scoped>\n",
       "    .dataframe tbody tr th:only-of-type {\n",
       "        vertical-align: middle;\n",
       "    }\n",
       "\n",
       "    .dataframe tbody tr th {\n",
       "        vertical-align: top;\n",
       "    }\n",
       "\n",
       "    .dataframe thead th {\n",
       "        text-align: right;\n",
       "    }\n",
       "</style>\n",
       "<table border=\"1\" class=\"dataframe\">\n",
       "  <thead>\n",
       "    <tr style=\"text-align: right;\">\n",
       "      <th></th>\n",
       "      <th>count(*)</th>\n",
       "    </tr>\n",
       "  </thead>\n",
       "  <tbody>\n",
       "    <tr>\n",
       "      <th>0</th>\n",
       "      <td>3841</td>\n",
       "    </tr>\n",
       "  </tbody>\n",
       "</table>\n",
       "</div>"
      ],
      "text/plain": [
       "   count(*)\n",
       "0      3841"
      ]
     },
     "execution_count": 9,
     "metadata": {},
     "output_type": "execute_result"
    }
   ],
   "source": [
    "cursor.execute('USE world')\n",
    "\n",
    "query = \"\"\"\n",
    "SELECT count(*)\n",
    "FROM city\n",
    "WHERE Population < 1000000\n",
    "\"\"\"\n",
    "\n",
    "data = pd.read_sql_query(query, myconn)\n",
    "data"
   ]
  },
  {
   "cell_type": "markdown",
   "id": "45550d37",
   "metadata": {},
   "source": [
    "## AVG"
   ]
  },
  {
   "cell_type": "code",
   "execution_count": 10,
   "id": "00a4b163",
   "metadata": {},
   "outputs": [
    {
     "data": {
      "text/html": [
       "<div>\n",
       "<style scoped>\n",
       "    .dataframe tbody tr th:only-of-type {\n",
       "        vertical-align: middle;\n",
       "    }\n",
       "\n",
       "    .dataframe tbody tr th {\n",
       "        vertical-align: top;\n",
       "    }\n",
       "\n",
       "    .dataframe thead th {\n",
       "        text-align: right;\n",
       "    }\n",
       "</style>\n",
       "<table border=\"1\" class=\"dataframe\">\n",
       "  <thead>\n",
       "    <tr style=\"text-align: right;\">\n",
       "      <th></th>\n",
       "      <th>AVG(Population)</th>\n",
       "    </tr>\n",
       "  </thead>\n",
       "  <tbody>\n",
       "    <tr>\n",
       "      <th>0</th>\n",
       "      <td>350468.2236</td>\n",
       "    </tr>\n",
       "  </tbody>\n",
       "</table>\n",
       "</div>"
      ],
      "text/plain": [
       "   AVG(Population)\n",
       "0      350468.2236"
      ]
     },
     "execution_count": 10,
     "metadata": {},
     "output_type": "execute_result"
    }
   ],
   "source": [
    "cursor.execute('USE world')\n",
    "\n",
    "query = \"\"\"\n",
    "SELECT AVG(Population)\n",
    "FROM city\n",
    "\"\"\"\n",
    "\n",
    "data = pd.read_sql_query(query, myconn)\n",
    "data"
   ]
  },
  {
   "cell_type": "markdown",
   "id": "f4b22ea3",
   "metadata": {},
   "source": [
    "## SUM"
   ]
  },
  {
   "cell_type": "code",
   "execution_count": 11,
   "id": "f015223e",
   "metadata": {},
   "outputs": [
    {
     "data": {
      "text/html": [
       "<div>\n",
       "<style scoped>\n",
       "    .dataframe tbody tr th:only-of-type {\n",
       "        vertical-align: middle;\n",
       "    }\n",
       "\n",
       "    .dataframe tbody tr th {\n",
       "        vertical-align: top;\n",
       "    }\n",
       "\n",
       "    .dataframe thead th {\n",
       "        text-align: right;\n",
       "    }\n",
       "</style>\n",
       "<table border=\"1\" class=\"dataframe\">\n",
       "  <thead>\n",
       "    <tr style=\"text-align: right;\">\n",
       "      <th></th>\n",
       "      <th>SUM(Population)</th>\n",
       "    </tr>\n",
       "  </thead>\n",
       "  <tbody>\n",
       "    <tr>\n",
       "      <th>0</th>\n",
       "      <td>1.429560e+09</td>\n",
       "    </tr>\n",
       "  </tbody>\n",
       "</table>\n",
       "</div>"
      ],
      "text/plain": [
       "   SUM(Population)\n",
       "0     1.429560e+09"
      ]
     },
     "execution_count": 11,
     "metadata": {},
     "output_type": "execute_result"
    }
   ],
   "source": [
    "cursor.execute('USE world')\n",
    "\n",
    "query = \"\"\"\n",
    "SELECT SUM(Population)\n",
    "FROM city\n",
    "\"\"\"\n",
    "\n",
    "data = pd.read_sql_query(query, myconn)\n",
    "data"
   ]
  },
  {
   "cell_type": "code",
   "execution_count": null,
   "id": "56f095f8",
   "metadata": {},
   "outputs": [],
   "source": []
  },
  {
   "cell_type": "code",
   "execution_count": 12,
   "id": "95740a60",
   "metadata": {},
   "outputs": [
    {
     "data": {
      "text/html": [
       "<div>\n",
       "<style scoped>\n",
       "    .dataframe tbody tr th:only-of-type {\n",
       "        vertical-align: middle;\n",
       "    }\n",
       "\n",
       "    .dataframe tbody tr th {\n",
       "        vertical-align: top;\n",
       "    }\n",
       "\n",
       "    .dataframe thead th {\n",
       "        text-align: right;\n",
       "    }\n",
       "</style>\n",
       "<table border=\"1\" class=\"dataframe\">\n",
       "  <thead>\n",
       "    <tr style=\"text-align: right;\">\n",
       "      <th></th>\n",
       "      <th>population_sum</th>\n",
       "    </tr>\n",
       "  </thead>\n",
       "  <tbody>\n",
       "    <tr>\n",
       "      <th>0</th>\n",
       "      <td>1.429560e+09</td>\n",
       "    </tr>\n",
       "  </tbody>\n",
       "</table>\n",
       "</div>"
      ],
      "text/plain": [
       "   population_sum\n",
       "0    1.429560e+09"
      ]
     },
     "execution_count": 12,
     "metadata": {},
     "output_type": "execute_result"
    }
   ],
   "source": [
    "cursor.execute('USE world')\n",
    "\n",
    "query = \"\"\"\n",
    "SELECT SUM(Population) AS population_sum\n",
    "FROM city\n",
    "\"\"\"\n",
    "\n",
    "data = pd.read_sql_query(query, myconn)\n",
    "data"
   ]
  },
  {
   "cell_type": "code",
   "execution_count": 13,
   "id": "2d3d518d",
   "metadata": {},
   "outputs": [
    {
     "data": {
      "text/html": [
       "<div>\n",
       "<style scoped>\n",
       "    .dataframe tbody tr th:only-of-type {\n",
       "        vertical-align: middle;\n",
       "    }\n",
       "\n",
       "    .dataframe tbody tr th {\n",
       "        vertical-align: top;\n",
       "    }\n",
       "\n",
       "    .dataframe thead th {\n",
       "        text-align: right;\n",
       "    }\n",
       "</style>\n",
       "<table border=\"1\" class=\"dataframe\">\n",
       "  <thead>\n",
       "    <tr style=\"text-align: right;\">\n",
       "      <th></th>\n",
       "      <th>population_sum</th>\n",
       "      <th>population_MIN</th>\n",
       "      <th>population_max</th>\n",
       "      <th>population_count</th>\n",
       "      <th>population_avg</th>\n",
       "    </tr>\n",
       "  </thead>\n",
       "  <tbody>\n",
       "    <tr>\n",
       "      <th>0</th>\n",
       "      <td>1.429560e+09</td>\n",
       "      <td>42</td>\n",
       "      <td>10500000</td>\n",
       "      <td>4079</td>\n",
       "      <td>350468.2236</td>\n",
       "    </tr>\n",
       "  </tbody>\n",
       "</table>\n",
       "</div>"
      ],
      "text/plain": [
       "   population_sum  population_MIN  population_max  population_count  \\\n",
       "0    1.429560e+09              42        10500000              4079   \n",
       "\n",
       "   population_avg  \n",
       "0     350468.2236  "
      ]
     },
     "execution_count": 13,
     "metadata": {},
     "output_type": "execute_result"
    }
   ],
   "source": [
    "cursor.execute('USE world')\n",
    "\n",
    "query = \"\"\"\n",
    "SELECT \n",
    "SUM(Population) AS population_sum, \n",
    "MIN(Population) AS population_MIN, \n",
    "MAX(Population) AS population_max,\n",
    "COUNT(Population) AS population_count,\n",
    "AVG(Population) AS population_avg\n",
    "\n",
    "FROM city\n",
    "\"\"\"\n",
    "\n",
    "data = pd.read_sql_query(query, myconn)\n",
    "data"
   ]
  },
  {
   "cell_type": "code",
   "execution_count": 14,
   "id": "214311f8",
   "metadata": {},
   "outputs": [
    {
     "data": {
      "text/html": [
       "<div>\n",
       "<style scoped>\n",
       "    .dataframe tbody tr th:only-of-type {\n",
       "        vertical-align: middle;\n",
       "    }\n",
       "\n",
       "    .dataframe tbody tr th {\n",
       "        vertical-align: top;\n",
       "    }\n",
       "\n",
       "    .dataframe thead th {\n",
       "        text-align: right;\n",
       "    }\n",
       "</style>\n",
       "<table border=\"1\" class=\"dataframe\">\n",
       "  <thead>\n",
       "    <tr style=\"text-align: right;\">\n",
       "      <th></th>\n",
       "      <th>population_sum</th>\n",
       "      <th>population_MIN</th>\n",
       "      <th>population_max</th>\n",
       "      <th>population_count</th>\n",
       "      <th>population_avg</th>\n",
       "    </tr>\n",
       "  </thead>\n",
       "  <tbody>\n",
       "    <tr>\n",
       "      <th>0</th>\n",
       "      <td>574137218.0</td>\n",
       "      <td>1002239</td>\n",
       "      <td>10500000</td>\n",
       "      <td>237</td>\n",
       "      <td>2.422520e+06</td>\n",
       "    </tr>\n",
       "  </tbody>\n",
       "</table>\n",
       "</div>"
      ],
      "text/plain": [
       "   population_sum  population_MIN  population_max  population_count  \\\n",
       "0     574137218.0         1002239        10500000               237   \n",
       "\n",
       "   population_avg  \n",
       "0    2.422520e+06  "
      ]
     },
     "execution_count": 14,
     "metadata": {},
     "output_type": "execute_result"
    }
   ],
   "source": [
    "cursor.execute('USE world')\n",
    "\n",
    "query = \"\"\"\n",
    "SELECT \n",
    "SUM(Population) AS population_sum, \n",
    "MIN(Population) AS population_MIN, \n",
    "MAX(Population) AS population_max,\n",
    "COUNT(Population) AS population_count,\n",
    "AVG(Population) AS population_avg\n",
    "\n",
    "FROM city\n",
    "\n",
    "WHERE Population > 1000000\n",
    "\n",
    "\"\"\"\n",
    "\n",
    "data = pd.read_sql_query(query, myconn)\n",
    "data"
   ]
  },
  {
   "cell_type": "code",
   "execution_count": 15,
   "id": "cc18c6b3",
   "metadata": {},
   "outputs": [
    {
     "data": {
      "text/html": [
       "<div>\n",
       "<style scoped>\n",
       "    .dataframe tbody tr th:only-of-type {\n",
       "        vertical-align: middle;\n",
       "    }\n",
       "\n",
       "    .dataframe tbody tr th {\n",
       "        vertical-align: top;\n",
       "    }\n",
       "\n",
       "    .dataframe thead th {\n",
       "        text-align: right;\n",
       "    }\n",
       "</style>\n",
       "<table border=\"1\" class=\"dataframe\">\n",
       "  <thead>\n",
       "    <tr style=\"text-align: right;\">\n",
       "      <th></th>\n",
       "      <th>population_sum</th>\n",
       "      <th>population_MIN</th>\n",
       "      <th>population_max</th>\n",
       "      <th>population_count</th>\n",
       "      <th>population_avg</th>\n",
       "    </tr>\n",
       "  </thead>\n",
       "  <tbody>\n",
       "    <tr>\n",
       "      <th>0</th>\n",
       "      <td>195416195.0</td>\n",
       "      <td>1000000</td>\n",
       "      <td>1987996</td>\n",
       "      <td>146</td>\n",
       "      <td>1338467.089</td>\n",
       "    </tr>\n",
       "  </tbody>\n",
       "</table>\n",
       "</div>"
      ],
      "text/plain": [
       "   population_sum  population_MIN  population_max  population_count  \\\n",
       "0     195416195.0         1000000         1987996               146   \n",
       "\n",
       "   population_avg  \n",
       "0     1338467.089  "
      ]
     },
     "execution_count": 15,
     "metadata": {},
     "output_type": "execute_result"
    }
   ],
   "source": [
    "cursor.execute('USE world')\n",
    "\n",
    "query = \"\"\"\n",
    "SELECT \n",
    "SUM(Population) AS population_sum, \n",
    "MIN(Population) AS population_MIN, \n",
    "MAX(Population) AS population_max,\n",
    "COUNT(Population) AS population_count,\n",
    "AVG(Population) AS population_avg\n",
    "\n",
    "FROM city\n",
    "\n",
    "WHERE Population BETWEEN 1000000 AND 2000000\n",
    "\n",
    "\"\"\"\n",
    "\n",
    "data = pd.read_sql_query(query, myconn)\n",
    "data"
   ]
  },
  {
   "cell_type": "markdown",
   "id": "77e3f2d7",
   "metadata": {},
   "source": [
    "## LIKE Operator"
   ]
  },
  {
   "cell_type": "code",
   "execution_count": null,
   "id": "6b40b4fc",
   "metadata": {},
   "outputs": [],
   "source": [
    "% : zero or one or multiple characters\n",
    "    \n",
    "_ : single"
   ]
  },
  {
   "cell_type": "markdown",
   "id": "ca6753df",
   "metadata": {},
   "source": [
    "### Extract all the records with Name starts with 'M'"
   ]
  },
  {
   "cell_type": "code",
   "execution_count": 16,
   "id": "4d000a99",
   "metadata": {},
   "outputs": [
    {
     "name": "stdout",
     "output_type": "stream",
     "text": [
      "shape: (301, 5)\n"
     ]
    },
    {
     "data": {
      "text/html": [
       "<div>\n",
       "<style scoped>\n",
       "    .dataframe tbody tr th:only-of-type {\n",
       "        vertical-align: middle;\n",
       "    }\n",
       "\n",
       "    .dataframe tbody tr th {\n",
       "        vertical-align: top;\n",
       "    }\n",
       "\n",
       "    .dataframe thead th {\n",
       "        text-align: right;\n",
       "    }\n",
       "</style>\n",
       "<table border=\"1\" class=\"dataframe\">\n",
       "  <thead>\n",
       "    <tr style=\"text-align: right;\">\n",
       "      <th></th>\n",
       "      <th>ID</th>\n",
       "      <th>Name</th>\n",
       "      <th>CountryCode</th>\n",
       "      <th>District</th>\n",
       "      <th>Population</th>\n",
       "    </tr>\n",
       "  </thead>\n",
       "  <tbody>\n",
       "    <tr>\n",
       "      <th>0</th>\n",
       "      <td>4</td>\n",
       "      <td>Mazar-e-Sharif</td>\n",
       "      <td>AFG</td>\n",
       "      <td>Balkh</td>\n",
       "      <td>127800</td>\n",
       "    </tr>\n",
       "    <tr>\n",
       "      <th>1</th>\n",
       "      <td>22</td>\n",
       "      <td>Maastricht</td>\n",
       "      <td>NLD</td>\n",
       "      <td>Limburg</td>\n",
       "      <td>122087</td>\n",
       "    </tr>\n",
       "    <tr>\n",
       "      <th>2</th>\n",
       "      <td>46</td>\n",
       "      <td>Mostaganem</td>\n",
       "      <td>DZA</td>\n",
       "      <td>Mostaganem</td>\n",
       "      <td>115212</td>\n",
       "    </tr>\n",
       "    <tr>\n",
       "      <th>3</th>\n",
       "      <td>77</td>\n",
       "      <td>Mar del Plata</td>\n",
       "      <td>ARG</td>\n",
       "      <td>Buenos Aires</td>\n",
       "      <td>512880</td>\n",
       "    </tr>\n",
       "    <tr>\n",
       "      <th>4</th>\n",
       "      <td>80</td>\n",
       "      <td>Merlo</td>\n",
       "      <td>ARG</td>\n",
       "      <td>Buenos Aires</td>\n",
       "      <td>463846</td>\n",
       "    </tr>\n",
       "    <tr>\n",
       "      <th>5</th>\n",
       "      <td>83</td>\n",
       "      <td>Moreno</td>\n",
       "      <td>ARG</td>\n",
       "      <td>Buenos Aires</td>\n",
       "      <td>356993</td>\n",
       "    </tr>\n",
       "    <tr>\n",
       "      <th>6</th>\n",
       "      <td>87</td>\n",
       "      <td>Morón</td>\n",
       "      <td>ARG</td>\n",
       "      <td>Buenos Aires</td>\n",
       "      <td>349246</td>\n",
       "    </tr>\n",
       "    <tr>\n",
       "      <th>7</th>\n",
       "      <td>91</td>\n",
       "      <td>Malvinas Argentinas</td>\n",
       "      <td>ARG</td>\n",
       "      <td>Buenos Aires</td>\n",
       "      <td>290335</td>\n",
       "    </tr>\n",
       "    <tr>\n",
       "      <th>8</th>\n",
       "      <td>116</td>\n",
       "      <td>Mendoza</td>\n",
       "      <td>ARG</td>\n",
       "      <td>Mendoza</td>\n",
       "      <td>123027</td>\n",
       "    </tr>\n",
       "    <tr>\n",
       "      <th>9</th>\n",
       "      <td>131</td>\n",
       "      <td>Melbourne</td>\n",
       "      <td>AUS</td>\n",
       "      <td>Victoria</td>\n",
       "      <td>2865329</td>\n",
       "    </tr>\n",
       "  </tbody>\n",
       "</table>\n",
       "</div>"
      ],
      "text/plain": [
       "    ID                 Name CountryCode      District  Population\n",
       "0    4       Mazar-e-Sharif         AFG         Balkh      127800\n",
       "1   22           Maastricht         NLD       Limburg      122087\n",
       "2   46           Mostaganem         DZA    Mostaganem      115212\n",
       "3   77        Mar del Plata         ARG  Buenos Aires      512880\n",
       "4   80                Merlo         ARG  Buenos Aires      463846\n",
       "5   83               Moreno         ARG  Buenos Aires      356993\n",
       "6   87                Morón         ARG  Buenos Aires      349246\n",
       "7   91  Malvinas Argentinas         ARG  Buenos Aires      290335\n",
       "8  116              Mendoza         ARG       Mendoza      123027\n",
       "9  131            Melbourne         AUS      Victoria     2865329"
      ]
     },
     "execution_count": 16,
     "metadata": {},
     "output_type": "execute_result"
    }
   ],
   "source": [
    "query = \"\"\"\n",
    "SELECT *\n",
    "FROM city\n",
    "WHERE Name LIKE 'M%'\n",
    "\"\"\"\n",
    "\n",
    "data = pd.read_sql_query(query, myconn)\n",
    "print(f\"shape: {data.shape}\")\n",
    "data.head(10)"
   ]
  },
  {
   "cell_type": "markdown",
   "id": "cd8cba44",
   "metadata": {},
   "source": [
    "### Extract all the records where in name 2nd character is 'm'"
   ]
  },
  {
   "cell_type": "code",
   "execution_count": 17,
   "id": "d9147ef1",
   "metadata": {},
   "outputs": [
    {
     "name": "stdout",
     "output_type": "stream",
     "text": [
      "shape: (36, 5)\n"
     ]
    },
    {
     "data": {
      "text/html": [
       "<div>\n",
       "<style scoped>\n",
       "    .dataframe tbody tr th:only-of-type {\n",
       "        vertical-align: middle;\n",
       "    }\n",
       "\n",
       "    .dataframe tbody tr th {\n",
       "        vertical-align: top;\n",
       "    }\n",
       "\n",
       "    .dataframe thead th {\n",
       "        text-align: right;\n",
       "    }\n",
       "</style>\n",
       "<table border=\"1\" class=\"dataframe\">\n",
       "  <thead>\n",
       "    <tr style=\"text-align: right;\">\n",
       "      <th></th>\n",
       "      <th>ID</th>\n",
       "      <th>Name</th>\n",
       "      <th>CountryCode</th>\n",
       "      <th>District</th>\n",
       "      <th>Population</th>\n",
       "    </tr>\n",
       "  </thead>\n",
       "  <tbody>\n",
       "    <tr>\n",
       "      <th>0</th>\n",
       "      <td>5</td>\n",
       "      <td>Amsterdam</td>\n",
       "      <td>NLD</td>\n",
       "      <td>Noord-Holland</td>\n",
       "      <td>731200</td>\n",
       "    </tr>\n",
       "    <tr>\n",
       "      <th>1</th>\n",
       "      <td>21</td>\n",
       "      <td>Amersfoort</td>\n",
       "      <td>NLD</td>\n",
       "      <td>Utrecht</td>\n",
       "      <td>126270</td>\n",
       "    </tr>\n",
       "    <tr>\n",
       "      <th>2</th>\n",
       "      <td>27</td>\n",
       "      <td>Emmen</td>\n",
       "      <td>NLD</td>\n",
       "      <td>Drenthe</td>\n",
       "      <td>105853</td>\n",
       "    </tr>\n",
       "    <tr>\n",
       "      <th>3</th>\n",
       "      <td>299</td>\n",
       "      <td>Imperatriz</td>\n",
       "      <td>BRA</td>\n",
       "      <td>Maranhão</td>\n",
       "      <td>224564</td>\n",
       "    </tr>\n",
       "    <tr>\n",
       "      <th>4</th>\n",
       "      <td>301</td>\n",
       "      <td>Embu</td>\n",
       "      <td>BRA</td>\n",
       "      <td>São Paulo</td>\n",
       "      <td>222223</td>\n",
       "    </tr>\n",
       "    <tr>\n",
       "      <th>5</th>\n",
       "      <td>326</td>\n",
       "      <td>Americana</td>\n",
       "      <td>BRA</td>\n",
       "      <td>São Paulo</td>\n",
       "      <td>177409</td>\n",
       "    </tr>\n",
       "    <tr>\n",
       "      <th>6</th>\n",
       "      <td>599</td>\n",
       "      <td>Ambato</td>\n",
       "      <td>ECU</td>\n",
       "      <td>Tungurahua</td>\n",
       "      <td>169612</td>\n",
       "    </tr>\n",
       "    <tr>\n",
       "      <th>7</th>\n",
       "      <td>726</td>\n",
       "      <td>Umlazi</td>\n",
       "      <td>ZAF</td>\n",
       "      <td>KwaZulu-Natal</td>\n",
       "      <td>339233</td>\n",
       "    </tr>\n",
       "    <tr>\n",
       "      <th>8</th>\n",
       "      <td>809</td>\n",
       "      <td>Imus</td>\n",
       "      <td>PHL</td>\n",
       "      <td>Southern Tagalog</td>\n",
       "      <td>195482</td>\n",
       "    </tr>\n",
       "    <tr>\n",
       "      <th>9</th>\n",
       "      <td>971</td>\n",
       "      <td>Ambon</td>\n",
       "      <td>IDN</td>\n",
       "      <td>Molukit</td>\n",
       "      <td>249312</td>\n",
       "    </tr>\n",
       "  </tbody>\n",
       "</table>\n",
       "</div>"
      ],
      "text/plain": [
       "    ID        Name CountryCode          District  Population\n",
       "0    5   Amsterdam         NLD     Noord-Holland      731200\n",
       "1   21  Amersfoort         NLD           Utrecht      126270\n",
       "2   27       Emmen         NLD           Drenthe      105853\n",
       "3  299  Imperatriz         BRA          Maranhão      224564\n",
       "4  301        Embu         BRA         São Paulo      222223\n",
       "5  326   Americana         BRA         São Paulo      177409\n",
       "6  599      Ambato         ECU        Tungurahua      169612\n",
       "7  726      Umlazi         ZAF     KwaZulu-Natal      339233\n",
       "8  809        Imus         PHL  Southern Tagalog      195482\n",
       "9  971       Ambon         IDN           Molukit      249312"
      ]
     },
     "execution_count": 17,
     "metadata": {},
     "output_type": "execute_result"
    }
   ],
   "source": [
    "cursor.execute('USE world')\n",
    "\n",
    "query = \"\"\"\n",
    "SELECT *\n",
    "FROM city\n",
    "WHERE Name LIKE '_M%'\n",
    "\"\"\"\n",
    "\n",
    "data = pd.read_sql_query(query, myconn)\n",
    "\n",
    "print(f\"shape: {data.shape}\")\n",
    "data.head(10)"
   ]
  },
  {
   "cell_type": "markdown",
   "id": "0d230792",
   "metadata": {},
   "source": [
    "## In Operator"
   ]
  },
  {
   "cell_type": "code",
   "execution_count": 18,
   "id": "59e3d036",
   "metadata": {},
   "outputs": [
    {
     "name": "stdout",
     "output_type": "stream",
     "text": [
      "shape: (2, 5)\n"
     ]
    },
    {
     "data": {
      "text/html": [
       "<div>\n",
       "<style scoped>\n",
       "    .dataframe tbody tr th:only-of-type {\n",
       "        vertical-align: middle;\n",
       "    }\n",
       "\n",
       "    .dataframe tbody tr th {\n",
       "        vertical-align: top;\n",
       "    }\n",
       "\n",
       "    .dataframe thead th {\n",
       "        text-align: right;\n",
       "    }\n",
       "</style>\n",
       "<table border=\"1\" class=\"dataframe\">\n",
       "  <thead>\n",
       "    <tr style=\"text-align: right;\">\n",
       "      <th></th>\n",
       "      <th>ID</th>\n",
       "      <th>Name</th>\n",
       "      <th>CountryCode</th>\n",
       "      <th>District</th>\n",
       "      <th>Population</th>\n",
       "    </tr>\n",
       "  </thead>\n",
       "  <tbody>\n",
       "    <tr>\n",
       "      <th>0</th>\n",
       "      <td>1025</td>\n",
       "      <td>Delhi</td>\n",
       "      <td>IND</td>\n",
       "      <td>Delhi</td>\n",
       "      <td>7206704</td>\n",
       "    </tr>\n",
       "    <tr>\n",
       "      <th>1</th>\n",
       "      <td>1034</td>\n",
       "      <td>Pune</td>\n",
       "      <td>IND</td>\n",
       "      <td>Maharashtra</td>\n",
       "      <td>1566651</td>\n",
       "    </tr>\n",
       "  </tbody>\n",
       "</table>\n",
       "</div>"
      ],
      "text/plain": [
       "     ID   Name CountryCode     District  Population\n",
       "0  1025  Delhi         IND        Delhi     7206704\n",
       "1  1034   Pune         IND  Maharashtra     1566651"
      ]
     },
     "execution_count": 18,
     "metadata": {},
     "output_type": "execute_result"
    }
   ],
   "source": [
    "query = \"\"\"\n",
    "SELECT *\n",
    "FROM city\n",
    "WHERE Name IN ('Delhi', 'Pune', 'Mumbai')\n",
    "\"\"\"\n",
    "\n",
    "data = pd.read_sql_query(query, myconn)\n",
    "\n",
    "print(f\"shape: {data.shape}\")\n",
    "data.head(10)"
   ]
  },
  {
   "cell_type": "code",
   "execution_count": null,
   "id": "5b6b6d53",
   "metadata": {},
   "outputs": [],
   "source": []
  }
 ],
 "metadata": {
  "kernelspec": {
   "display_name": "Python 3 (ipykernel)",
   "language": "python",
   "name": "python3"
  },
  "language_info": {
   "codemirror_mode": {
    "name": "ipython",
    "version": 3
   },
   "file_extension": ".py",
   "mimetype": "text/x-python",
   "name": "python",
   "nbconvert_exporter": "python",
   "pygments_lexer": "ipython3",
   "version": "3.9.13"
  }
 },
 "nbformat": 4,
 "nbformat_minor": 5
}
